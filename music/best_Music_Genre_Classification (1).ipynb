{
  "cells": [
    {
      "cell_type": "markdown",
      "metadata": {
        "id": "Ddo1H4afQvOe"
      },
      "source": [
        "# **1.discover our dataset:**"
      ]
    },
    {
      "cell_type": "markdown",
      "metadata": {
        "id": "X1QetgE4Q11M"
      },
      "source": [
        "###**Context**\n",
        "**artist:** Name of the Artist.\n",
        "\n",
        "**song:**Name of the Track.\n",
        "\n",
        "**popularity:** The higher the value the more popular the song is.\n",
        "\n",
        "**danceability:** Danceability describes how suitable a track is for dancing based on a combination of musical elements including tempo, rhythm\n",
        "\n",
        "**energy:** Energy is a measure from 0.0 to 1.0 and represents a perceptual measure of intensity and activity.\n",
        "\n",
        "**key:** The key the track is in. Integers map to pitches using standard Pitch Class notation. E.g. 0 = C, 1 = C♯/D♭, 2 = D, and so on..\n",
        "\n",
        "**loudness:** The overall loudness of a track in decibels (dB). Loudness values are averaged across the entire track and are useful for comparing relative\n",
        "\n",
        "**mode:** Mode indicates the modality (major or minor) of a track, the type of scale from which its melodic content is derived. Major is represented by 1 and minor is 0.\n",
        "\n",
        "**speechiness:** Speechiness detects the presence of spoken words in a track. The more exclusively speech-like the recording (e.g. talk show, audio book, poetry), the closer to 1.0 the attribute value. Values above 0.66 describe tracks that are probably made entirely of spoken words. Values between 0.33 and 0.66 describe tracks that may contain both music and speech, either in sections or layered, including such cases as rap music. Values below 0.33 most likely represent music and other non-speech-like tracks.\n",
        "\n",
        "**acousticness:** A confidence measure from 0.0 to 1.0 of whether the track is acoustic. 1.0 represents high confidence the track is acoustic.\n",
        "\n",
        "**instrumentalness:** Predicts whether a track contains no vocals. \"Ooh\" and \"aah\" sounds are treated as instrumental in this context. Rap or spoken word tracks are clearly \"vocal\". The closer the instrumentalness value is to 1.0, the greater likelihood the track contains no vocal content. Values above 0.5 are intended to represent instrumental tracks, but confidence is higher as the value approaches 1.0.\n",
        "\n",
        "**liveness:** Detects the presence of an audience in the recording. Higher liveness values represent an increased probability that the track was performed live. A value above 0.8 provides strong likelihood that the track is live.\n",
        "\n",
        "**valence:** A measure from 0.0 to 1.0 describing the musical positiveness conveyed by a track. Tracks with high valence sound more positive (e.g. happy, cheerful, euphoric), while tracks with low valence sound more negative (e.g. sad, depressed, angry).\n",
        "\n",
        "**tempo:** The overall estimated tempo of a track in beats per minute (BPM). In musical terminology, tempo is the speed or pace of a given piece and derives directly from the average beat duration.\n",
        "\n",
        "**duration in milliseconds:**Time of the song\n",
        "\n",
        "**time_signature:** a notational convention used in Western musical notation to specify how many beats (pulses) are contained in each measure (bar), and which note value is equivalent to a beat.\n",
        "\n",
        "**Class:**Genre of the track."
      ]
    },
    {
      "cell_type": "markdown",
      "metadata": {
        "id": "qLfuhx1TR6Vc"
      },
      "source": [
        "# **First step: Exploratory Data Analysis – EDA :**"
      ]
    },
    {
      "cell_type": "markdown",
      "metadata": {
        "id": "hYmJE-jhR_pK"
      },
      "source": [
        "IMPORT LIBRARIES"
      ]
    },
    {
      "cell_type": "code",
      "execution_count": null,
      "metadata": {
        "id": "tPBWPaECPeq8"
      },
      "outputs": [],
      "source": [
        "#Import libraries \n",
        "import pandas as pd\n",
        "import numpy as np\n",
        "import matplotlib.pyplot as plt\n",
        "import seaborn as sns\n",
        "from sklearn.model_selection import train_test_split\n",
        "from sklearn.model_selection import cross_val_score"
      ]
    },
    {
      "cell_type": "markdown",
      "metadata": {
        "id": "nJMvOpGWSEIa"
      },
      "source": [
        "**READING** THE DATA"
      ]
    },
    {
      "cell_type": "code",
      "execution_count": null,
      "metadata": {
        "id": "5vtDdnFqrk3c"
      },
      "outputs": [],
      "source": [
        "data=pd.read_csv(\"train.csv\")"
      ]
    },
    {
      "cell_type": "markdown",
      "metadata": {
        "id": "fVm4ibZPSR-T"
      },
      "source": [
        "## **Basic Data Exploration**"
      ]
    },
    {
      "cell_type": "markdown",
      "metadata": {
        "id": "TAreNNWQSVkj"
      },
      "source": [
        "**1- head of the dataset**"
      ]
    },
    {
      "cell_type": "code",
      "execution_count": null,
      "metadata": {
        "colab": {
          "base_uri": "https://localhost:8080/",
          "height": 513
        },
        "id": "ZTKHm2p6SJDz",
        "outputId": "2292d261-abe9-48a5-b831-ad17a265b5e3"
      },
      "outputs": [
        {
          "output_type": "execute_result",
          "data": {
            "text/plain": [
              "   id                 Artist Name                          Track Name  \\\n",
              "0   0  Lata Mangeshkar, Hariharan                       Likha Hai Yeh   \n",
              "1   1                  Kalan.FrFr  No Love ft. Mozzy & Cypress Moreno   \n",
              "2   2                    The Cure                      Play For Today   \n",
              "3   3               Miguel Poveda                   Coplas Del Querer   \n",
              "4   4              Leif Vollebekk                     Long Blue Light   \n",
              "\n",
              "   Popularity  danceability  energy   key  loudness  mode  speechiness  \\\n",
              "0        23.0         0.370   0.670   7.0   -11.007     0       0.0445   \n",
              "1        45.0         0.659   0.639   6.0    -8.138     1       0.3880   \n",
              "2        51.0         0.458   0.731  11.0   -12.049     0       0.1450   \n",
              "3        40.0         0.508   0.287   5.0    -8.898     0       0.0481   \n",
              "4        63.0         0.552   0.485   9.0    -9.111     1       0.0332   \n",
              "\n",
              "   acousticness  instrumentalness  liveness  valence    tempo  \\\n",
              "0        0.8090          0.000006    0.2360    0.802  177.164   \n",
              "1        0.4160               NaN    0.1160    0.688   99.517   \n",
              "2        0.0487          0.021500    0.1160    0.784   80.425   \n",
              "3        0.8340               NaN    0.0963    0.324   96.139   \n",
              "4        0.5170          0.106000    0.1640    0.510   71.548   \n",
              "\n",
              "   duration_in min/ms  time_signature  Class  \n",
              "0            5.209333               3      3  \n",
              "1       206602.000000               4      5  \n",
              "2       218960.000000               4      6  \n",
              "3       332467.000000               3      9  \n",
              "4       200173.000000               4      1  "
            ],
            "text/html": [
              "\n",
              "  <div id=\"df-74e22fa6-f883-4909-8301-8cdcc67eb24f\">\n",
              "    <div class=\"colab-df-container\">\n",
              "      <div>\n",
              "<style scoped>\n",
              "    .dataframe tbody tr th:only-of-type {\n",
              "        vertical-align: middle;\n",
              "    }\n",
              "\n",
              "    .dataframe tbody tr th {\n",
              "        vertical-align: top;\n",
              "    }\n",
              "\n",
              "    .dataframe thead th {\n",
              "        text-align: right;\n",
              "    }\n",
              "</style>\n",
              "<table border=\"1\" class=\"dataframe\">\n",
              "  <thead>\n",
              "    <tr style=\"text-align: right;\">\n",
              "      <th></th>\n",
              "      <th>id</th>\n",
              "      <th>Artist Name</th>\n",
              "      <th>Track Name</th>\n",
              "      <th>Popularity</th>\n",
              "      <th>danceability</th>\n",
              "      <th>energy</th>\n",
              "      <th>key</th>\n",
              "      <th>loudness</th>\n",
              "      <th>mode</th>\n",
              "      <th>speechiness</th>\n",
              "      <th>acousticness</th>\n",
              "      <th>instrumentalness</th>\n",
              "      <th>liveness</th>\n",
              "      <th>valence</th>\n",
              "      <th>tempo</th>\n",
              "      <th>duration_in min/ms</th>\n",
              "      <th>time_signature</th>\n",
              "      <th>Class</th>\n",
              "    </tr>\n",
              "  </thead>\n",
              "  <tbody>\n",
              "    <tr>\n",
              "      <th>0</th>\n",
              "      <td>0</td>\n",
              "      <td>Lata Mangeshkar, Hariharan</td>\n",
              "      <td>Likha Hai Yeh</td>\n",
              "      <td>23.0</td>\n",
              "      <td>0.370</td>\n",
              "      <td>0.670</td>\n",
              "      <td>7.0</td>\n",
              "      <td>-11.007</td>\n",
              "      <td>0</td>\n",
              "      <td>0.0445</td>\n",
              "      <td>0.8090</td>\n",
              "      <td>0.000006</td>\n",
              "      <td>0.2360</td>\n",
              "      <td>0.802</td>\n",
              "      <td>177.164</td>\n",
              "      <td>5.209333</td>\n",
              "      <td>3</td>\n",
              "      <td>3</td>\n",
              "    </tr>\n",
              "    <tr>\n",
              "      <th>1</th>\n",
              "      <td>1</td>\n",
              "      <td>Kalan.FrFr</td>\n",
              "      <td>No Love ft. Mozzy &amp; Cypress Moreno</td>\n",
              "      <td>45.0</td>\n",
              "      <td>0.659</td>\n",
              "      <td>0.639</td>\n",
              "      <td>6.0</td>\n",
              "      <td>-8.138</td>\n",
              "      <td>1</td>\n",
              "      <td>0.3880</td>\n",
              "      <td>0.4160</td>\n",
              "      <td>NaN</td>\n",
              "      <td>0.1160</td>\n",
              "      <td>0.688</td>\n",
              "      <td>99.517</td>\n",
              "      <td>206602.000000</td>\n",
              "      <td>4</td>\n",
              "      <td>5</td>\n",
              "    </tr>\n",
              "    <tr>\n",
              "      <th>2</th>\n",
              "      <td>2</td>\n",
              "      <td>The Cure</td>\n",
              "      <td>Play For Today</td>\n",
              "      <td>51.0</td>\n",
              "      <td>0.458</td>\n",
              "      <td>0.731</td>\n",
              "      <td>11.0</td>\n",
              "      <td>-12.049</td>\n",
              "      <td>0</td>\n",
              "      <td>0.1450</td>\n",
              "      <td>0.0487</td>\n",
              "      <td>0.021500</td>\n",
              "      <td>0.1160</td>\n",
              "      <td>0.784</td>\n",
              "      <td>80.425</td>\n",
              "      <td>218960.000000</td>\n",
              "      <td>4</td>\n",
              "      <td>6</td>\n",
              "    </tr>\n",
              "    <tr>\n",
              "      <th>3</th>\n",
              "      <td>3</td>\n",
              "      <td>Miguel Poveda</td>\n",
              "      <td>Coplas Del Querer</td>\n",
              "      <td>40.0</td>\n",
              "      <td>0.508</td>\n",
              "      <td>0.287</td>\n",
              "      <td>5.0</td>\n",
              "      <td>-8.898</td>\n",
              "      <td>0</td>\n",
              "      <td>0.0481</td>\n",
              "      <td>0.8340</td>\n",
              "      <td>NaN</td>\n",
              "      <td>0.0963</td>\n",
              "      <td>0.324</td>\n",
              "      <td>96.139</td>\n",
              "      <td>332467.000000</td>\n",
              "      <td>3</td>\n",
              "      <td>9</td>\n",
              "    </tr>\n",
              "    <tr>\n",
              "      <th>4</th>\n",
              "      <td>4</td>\n",
              "      <td>Leif Vollebekk</td>\n",
              "      <td>Long Blue Light</td>\n",
              "      <td>63.0</td>\n",
              "      <td>0.552</td>\n",
              "      <td>0.485</td>\n",
              "      <td>9.0</td>\n",
              "      <td>-9.111</td>\n",
              "      <td>1</td>\n",
              "      <td>0.0332</td>\n",
              "      <td>0.5170</td>\n",
              "      <td>0.106000</td>\n",
              "      <td>0.1640</td>\n",
              "      <td>0.510</td>\n",
              "      <td>71.548</td>\n",
              "      <td>200173.000000</td>\n",
              "      <td>4</td>\n",
              "      <td>1</td>\n",
              "    </tr>\n",
              "  </tbody>\n",
              "</table>\n",
              "</div>\n",
              "      <button class=\"colab-df-convert\" onclick=\"convertToInteractive('df-74e22fa6-f883-4909-8301-8cdcc67eb24f')\"\n",
              "              title=\"Convert this dataframe to an interactive table.\"\n",
              "              style=\"display:none;\">\n",
              "        \n",
              "  <svg xmlns=\"http://www.w3.org/2000/svg\" height=\"24px\"viewBox=\"0 0 24 24\"\n",
              "       width=\"24px\">\n",
              "    <path d=\"M0 0h24v24H0V0z\" fill=\"none\"/>\n",
              "    <path d=\"M18.56 5.44l.94 2.06.94-2.06 2.06-.94-2.06-.94-.94-2.06-.94 2.06-2.06.94zm-11 1L8.5 8.5l.94-2.06 2.06-.94-2.06-.94L8.5 2.5l-.94 2.06-2.06.94zm10 10l.94 2.06.94-2.06 2.06-.94-2.06-.94-.94-2.06-.94 2.06-2.06.94z\"/><path d=\"M17.41 7.96l-1.37-1.37c-.4-.4-.92-.59-1.43-.59-.52 0-1.04.2-1.43.59L10.3 9.45l-7.72 7.72c-.78.78-.78 2.05 0 2.83L4 21.41c.39.39.9.59 1.41.59.51 0 1.02-.2 1.41-.59l7.78-7.78 2.81-2.81c.8-.78.8-2.07 0-2.86zM5.41 20L4 18.59l7.72-7.72 1.47 1.35L5.41 20z\"/>\n",
              "  </svg>\n",
              "      </button>\n",
              "      \n",
              "  <style>\n",
              "    .colab-df-container {\n",
              "      display:flex;\n",
              "      flex-wrap:wrap;\n",
              "      gap: 12px;\n",
              "    }\n",
              "\n",
              "    .colab-df-convert {\n",
              "      background-color: #E8F0FE;\n",
              "      border: none;\n",
              "      border-radius: 50%;\n",
              "      cursor: pointer;\n",
              "      display: none;\n",
              "      fill: #1967D2;\n",
              "      height: 32px;\n",
              "      padding: 0 0 0 0;\n",
              "      width: 32px;\n",
              "    }\n",
              "\n",
              "    .colab-df-convert:hover {\n",
              "      background-color: #E2EBFA;\n",
              "      box-shadow: 0px 1px 2px rgba(60, 64, 67, 0.3), 0px 1px 3px 1px rgba(60, 64, 67, 0.15);\n",
              "      fill: #174EA6;\n",
              "    }\n",
              "\n",
              "    [theme=dark] .colab-df-convert {\n",
              "      background-color: #3B4455;\n",
              "      fill: #D2E3FC;\n",
              "    }\n",
              "\n",
              "    [theme=dark] .colab-df-convert:hover {\n",
              "      background-color: #434B5C;\n",
              "      box-shadow: 0px 1px 3px 1px rgba(0, 0, 0, 0.15);\n",
              "      filter: drop-shadow(0px 1px 2px rgba(0, 0, 0, 0.3));\n",
              "      fill: #FFFFFF;\n",
              "    }\n",
              "  </style>\n",
              "\n",
              "      <script>\n",
              "        const buttonEl =\n",
              "          document.querySelector('#df-74e22fa6-f883-4909-8301-8cdcc67eb24f button.colab-df-convert');\n",
              "        buttonEl.style.display =\n",
              "          google.colab.kernel.accessAllowed ? 'block' : 'none';\n",
              "\n",
              "        async function convertToInteractive(key) {\n",
              "          const element = document.querySelector('#df-74e22fa6-f883-4909-8301-8cdcc67eb24f');\n",
              "          const dataTable =\n",
              "            await google.colab.kernel.invokeFunction('convertToInteractive',\n",
              "                                                     [key], {});\n",
              "          if (!dataTable) return;\n",
              "\n",
              "          const docLinkHtml = 'Like what you see? Visit the ' +\n",
              "            '<a target=\"_blank\" href=https://colab.research.google.com/notebooks/data_table.ipynb>data table notebook</a>'\n",
              "            + ' to learn more about interactive tables.';\n",
              "          element.innerHTML = '';\n",
              "          dataTable['output_type'] = 'display_data';\n",
              "          await google.colab.output.renderOutput(dataTable, element);\n",
              "          const docLink = document.createElement('div');\n",
              "          docLink.innerHTML = docLinkHtml;\n",
              "          element.appendChild(docLink);\n",
              "        }\n",
              "      </script>\n",
              "    </div>\n",
              "  </div>\n",
              "  "
            ]
          },
          "metadata": {},
          "execution_count": 3
        }
      ],
      "source": [
        "data.head()"
      ]
    },
    {
      "cell_type": "markdown",
      "metadata": {
        "id": "wpqmlQf_Si2c"
      },
      "source": [
        "2-The shape of the dataset"
      ]
    },
    {
      "cell_type": "code",
      "execution_count": null,
      "metadata": {
        "colab": {
          "base_uri": "https://localhost:8080/"
        },
        "id": "-k9ZP75kSYCp",
        "outputId": "b675a3c7-f3ad-41e8-97dd-a05d0cfe7a32"
      },
      "outputs": [
        {
          "output_type": "execute_result",
          "data": {
            "text/plain": [
              "(14396, 18)"
            ]
          },
          "metadata": {},
          "execution_count": 4
        }
      ],
      "source": [
        "data.shape"
      ]
    },
    {
      "cell_type": "markdown",
      "metadata": {
        "id": "E7_LGS2jSptZ"
      },
      "source": [
        "**3-Info of the dataset & Know the datatypes**"
      ]
    },
    {
      "cell_type": "code",
      "execution_count": null,
      "metadata": {
        "colab": {
          "base_uri": "https://localhost:8080/"
        },
        "id": "y_kyiQDsSnGE",
        "outputId": "c2834790-afe2-451a-c730-18801b2979a5"
      },
      "outputs": [
        {
          "output_type": "stream",
          "name": "stdout",
          "text": [
            "<class 'pandas.core.frame.DataFrame'>\n",
            "RangeIndex: 14396 entries, 0 to 14395\n",
            "Data columns (total 18 columns):\n",
            " #   Column              Non-Null Count  Dtype  \n",
            "---  ------              --------------  -----  \n",
            " 0   id                  14396 non-null  int64  \n",
            " 1   Artist Name         14396 non-null  object \n",
            " 2   Track Name          14396 non-null  object \n",
            " 3   Popularity          14045 non-null  float64\n",
            " 4   danceability        14396 non-null  float64\n",
            " 5   energy              14396 non-null  float64\n",
            " 6   key                 12784 non-null  float64\n",
            " 7   loudness            14396 non-null  float64\n",
            " 8   mode                14396 non-null  int64  \n",
            " 9   speechiness         14396 non-null  float64\n",
            " 10  acousticness        14396 non-null  float64\n",
            " 11  instrumentalness    10837 non-null  float64\n",
            " 12  liveness            14396 non-null  float64\n",
            " 13  valence             14396 non-null  float64\n",
            " 14  tempo               14396 non-null  float64\n",
            " 15  duration_in min/ms  14396 non-null  float64\n",
            " 16  time_signature      14396 non-null  int64  \n",
            " 17  Class               14396 non-null  int64  \n",
            "dtypes: float64(12), int64(4), object(2)\n",
            "memory usage: 2.0+ MB\n"
          ]
        }
      ],
      "source": [
        "data.info()"
      ]
    },
    {
      "cell_type": "markdown",
      "metadata": {
        "id": "8vEZSjz0TC8J"
      },
      "source": [
        "***Discussion:***\n",
        "***\n",
        "I have two catigorical columns must to dealing with them"
      ]
    },
    {
      "cell_type": "markdown",
      "metadata": {
        "id": "wlY0YDW1TRg1"
      },
      "source": [
        "## **Descover Missing value**"
      ]
    },
    {
      "cell_type": "markdown",
      "metadata": {
        "id": "QwB3emz5TTzj"
      },
      "source": [
        "1-Check amount of missing values"
      ]
    },
    {
      "cell_type": "code",
      "execution_count": null,
      "metadata": {
        "colab": {
          "base_uri": "https://localhost:8080/"
        },
        "id": "GwAD18RKSsL1",
        "outputId": "175a9b66-fef4-432c-974c-b820fe147f81"
      },
      "outputs": [
        {
          "output_type": "execute_result",
          "data": {
            "text/plain": [
              "id                     0.000000\n",
              "Artist Name            0.000000\n",
              "Track Name             0.000000\n",
              "Popularity             2.438177\n",
              "danceability           0.000000\n",
              "energy                 0.000000\n",
              "key                   11.197555\n",
              "loudness               0.000000\n",
              "mode                   0.000000\n",
              "speechiness            0.000000\n",
              "acousticness           0.000000\n",
              "instrumentalness      24.722145\n",
              "liveness               0.000000\n",
              "valence                0.000000\n",
              "tempo                  0.000000\n",
              "duration_in min/ms     0.000000\n",
              "time_signature         0.000000\n",
              "Class                  0.000000\n",
              "dtype: float64"
            ]
          },
          "metadata": {},
          "execution_count": 6
        }
      ],
      "source": [
        "data.isnull().sum() / data.shape[0]*100"
      ]
    },
    {
      "cell_type": "markdown",
      "metadata": {
        "id": "49E4YI1HTl-M"
      },
      "source": [
        "***Discussion:***\n",
        "***\n",
        "I have three columns have missing values "
      ]
    },
    {
      "cell_type": "markdown",
      "metadata": {
        "id": "cNqMZ9UrUFpS"
      },
      "source": [
        "## **Duplicate values**"
      ]
    },
    {
      "cell_type": "code",
      "execution_count": null,
      "metadata": {
        "colab": {
          "base_uri": "https://localhost:8080/"
        },
        "id": "3ormgRpPTZ2E",
        "outputId": "0b4e3bdc-c787-4c8a-8906-3129a5d73b18"
      },
      "outputs": [
        {
          "output_type": "execute_result",
          "data": {
            "text/plain": [
              "0"
            ]
          },
          "metadata": {},
          "execution_count": 7
        }
      ],
      "source": [
        "data.duplicated().sum() #try without id"
      ]
    },
    {
      "cell_type": "code",
      "execution_count": null,
      "metadata": {
        "id": "Nfj-08c5K4HS"
      },
      "outputs": [],
      "source": [
        "data2=data.drop(\"id\",axis=1)\n"
      ]
    },
    {
      "cell_type": "code",
      "execution_count": null,
      "metadata": {
        "colab": {
          "base_uri": "https://localhost:8080/"
        },
        "id": "lNhVAz_uLQQF",
        "outputId": "9e3bdd56-a0e5-48b2-e111-fd82bc49b9a8"
      },
      "outputs": [
        {
          "output_type": "execute_result",
          "data": {
            "text/plain": [
              "0"
            ]
          },
          "metadata": {},
          "execution_count": 9
        }
      ],
      "source": [
        "data2.duplicated().sum()"
      ]
    },
    {
      "cell_type": "code",
      "execution_count": null,
      "metadata": {
        "id": "qHrHSvA9Ls4o"
      },
      "outputs": [],
      "source": [
        "data3=data.drop([\"id\",\"Artist Name\",\"Track Name\"],axis=1)"
      ]
    },
    {
      "cell_type": "code",
      "execution_count": null,
      "metadata": {
        "colab": {
          "base_uri": "https://localhost:8080/"
        },
        "id": "rWpz-cT8MRIL",
        "outputId": "fa7cc608-34f6-4bb9-dba6-f12ca563451f"
      },
      "outputs": [
        {
          "output_type": "execute_result",
          "data": {
            "text/plain": [
              "29"
            ]
          },
          "metadata": {},
          "execution_count": 11
        }
      ],
      "source": [
        "data3.duplicated().sum()"
      ]
    },
    {
      "cell_type": "code",
      "execution_count": null,
      "metadata": {
        "colab": {
          "base_uri": "https://localhost:8080/"
        },
        "id": "z2bMa1ue1_cd",
        "outputId": "53c2461d-e64f-4397-b68a-e4fb3a4d1876"
      },
      "outputs": [
        {
          "output_type": "execute_result",
          "data": {
            "text/plain": [
              "          id                     Artist Name  \\\n",
              "0          0      Lata Mangeshkar, Hariharan   \n",
              "1          1                      Kalan.FrFr   \n",
              "2          2                        The Cure   \n",
              "3          3                   Miguel Poveda   \n",
              "4          4                  Leif Vollebekk   \n",
              "...      ...                             ...   \n",
              "14391  14391  Ólafur Arnalds, Alice Sara Ott   \n",
              "14392  14392                    Citizen Cope   \n",
              "14393  14393                           WurlD   \n",
              "14394  14394                        Rafferty   \n",
              "14395  14395                    Machine Head   \n",
              "\n",
              "                               Track Name  Popularity  danceability  energy  \\\n",
              "0                           Likha Hai Yeh        23.0         0.370   0.670   \n",
              "1      No Love ft. Mozzy & Cypress Moreno        45.0         0.659   0.639   \n",
              "2                          Play For Today        51.0         0.458   0.731   \n",
              "3                       Coplas Del Querer        40.0         0.508   0.287   \n",
              "4                         Long Blue Light        63.0         0.552   0.485   \n",
              "...                                   ...         ...           ...     ...   \n",
              "14391                              Verses        42.0         0.140   0.159   \n",
              "14392             Something to Believe In        50.0         0.659   0.882   \n",
              "14393                    WAYO (KPE LE WU)        41.0         0.696   0.535   \n",
              "14394                       Making a Home        48.0         0.412   0.571   \n",
              "14395         Is There Anybody out There?        63.0         0.408   0.953   \n",
              "\n",
              "        key  loudness  mode  speechiness  acousticness  instrumentalness  \\\n",
              "0       7.0   -11.007     0       0.0445       0.80900          0.000006   \n",
              "1       6.0    -8.138     1       0.3880       0.41600               NaN   \n",
              "2      11.0   -12.049     0       0.1450       0.04870          0.021500   \n",
              "3       5.0    -8.898     0       0.0481       0.83400               NaN   \n",
              "4       9.0    -9.111     1       0.0332       0.51700          0.106000   \n",
              "...     ...       ...   ...          ...           ...               ...   \n",
              "14391   1.0   -17.845     0       0.0401       0.86700          0.917000   \n",
              "14392   5.0    -7.039     1       0.0527       0.04620          0.011500   \n",
              "14393   4.0    -8.053     0       0.1460       0.42100          0.000018   \n",
              "14394  11.0    -6.006     1       0.0387       0.30400               NaN   \n",
              "14395   7.0    -3.883     1       0.2260       0.00532               NaN   \n",
              "\n",
              "       liveness  valence    tempo  duration_in min/ms  time_signature  Class  \n",
              "0        0.2360   0.8020  177.164            5.209333               3      3  \n",
              "1        0.1160   0.6880   99.517       206602.000000               4      5  \n",
              "2        0.1160   0.7840   80.425       218960.000000               4      6  \n",
              "3        0.0963   0.3240   96.139       332467.000000               3      9  \n",
              "4        0.1640   0.5100   71.548       200173.000000               4      1  \n",
              "...         ...      ...      ...                 ...             ...    ...  \n",
              "14391    0.3920   0.0331  142.239            4.052667               3      7  \n",
              "14392    0.0919   0.8810  156.099       221840.000000               4     10  \n",
              "14393    0.1070   0.6620   91.943       196093.000000               4      9  \n",
              "14394    0.2370   0.4730  159.697       238173.000000               4      9  \n",
              "14395    0.3380   0.2910  177.940       272666.000000               4     10  \n",
              "\n",
              "[14396 rows x 18 columns]"
            ],
            "text/html": [
              "\n",
              "  <div id=\"df-3bc3ea1d-dac9-4c83-b079-c962411b0450\">\n",
              "    <div class=\"colab-df-container\">\n",
              "      <div>\n",
              "<style scoped>\n",
              "    .dataframe tbody tr th:only-of-type {\n",
              "        vertical-align: middle;\n",
              "    }\n",
              "\n",
              "    .dataframe tbody tr th {\n",
              "        vertical-align: top;\n",
              "    }\n",
              "\n",
              "    .dataframe thead th {\n",
              "        text-align: right;\n",
              "    }\n",
              "</style>\n",
              "<table border=\"1\" class=\"dataframe\">\n",
              "  <thead>\n",
              "    <tr style=\"text-align: right;\">\n",
              "      <th></th>\n",
              "      <th>id</th>\n",
              "      <th>Artist Name</th>\n",
              "      <th>Track Name</th>\n",
              "      <th>Popularity</th>\n",
              "      <th>danceability</th>\n",
              "      <th>energy</th>\n",
              "      <th>key</th>\n",
              "      <th>loudness</th>\n",
              "      <th>mode</th>\n",
              "      <th>speechiness</th>\n",
              "      <th>acousticness</th>\n",
              "      <th>instrumentalness</th>\n",
              "      <th>liveness</th>\n",
              "      <th>valence</th>\n",
              "      <th>tempo</th>\n",
              "      <th>duration_in min/ms</th>\n",
              "      <th>time_signature</th>\n",
              "      <th>Class</th>\n",
              "    </tr>\n",
              "  </thead>\n",
              "  <tbody>\n",
              "    <tr>\n",
              "      <th>0</th>\n",
              "      <td>0</td>\n",
              "      <td>Lata Mangeshkar, Hariharan</td>\n",
              "      <td>Likha Hai Yeh</td>\n",
              "      <td>23.0</td>\n",
              "      <td>0.370</td>\n",
              "      <td>0.670</td>\n",
              "      <td>7.0</td>\n",
              "      <td>-11.007</td>\n",
              "      <td>0</td>\n",
              "      <td>0.0445</td>\n",
              "      <td>0.80900</td>\n",
              "      <td>0.000006</td>\n",
              "      <td>0.2360</td>\n",
              "      <td>0.8020</td>\n",
              "      <td>177.164</td>\n",
              "      <td>5.209333</td>\n",
              "      <td>3</td>\n",
              "      <td>3</td>\n",
              "    </tr>\n",
              "    <tr>\n",
              "      <th>1</th>\n",
              "      <td>1</td>\n",
              "      <td>Kalan.FrFr</td>\n",
              "      <td>No Love ft. Mozzy &amp; Cypress Moreno</td>\n",
              "      <td>45.0</td>\n",
              "      <td>0.659</td>\n",
              "      <td>0.639</td>\n",
              "      <td>6.0</td>\n",
              "      <td>-8.138</td>\n",
              "      <td>1</td>\n",
              "      <td>0.3880</td>\n",
              "      <td>0.41600</td>\n",
              "      <td>NaN</td>\n",
              "      <td>0.1160</td>\n",
              "      <td>0.6880</td>\n",
              "      <td>99.517</td>\n",
              "      <td>206602.000000</td>\n",
              "      <td>4</td>\n",
              "      <td>5</td>\n",
              "    </tr>\n",
              "    <tr>\n",
              "      <th>2</th>\n",
              "      <td>2</td>\n",
              "      <td>The Cure</td>\n",
              "      <td>Play For Today</td>\n",
              "      <td>51.0</td>\n",
              "      <td>0.458</td>\n",
              "      <td>0.731</td>\n",
              "      <td>11.0</td>\n",
              "      <td>-12.049</td>\n",
              "      <td>0</td>\n",
              "      <td>0.1450</td>\n",
              "      <td>0.04870</td>\n",
              "      <td>0.021500</td>\n",
              "      <td>0.1160</td>\n",
              "      <td>0.7840</td>\n",
              "      <td>80.425</td>\n",
              "      <td>218960.000000</td>\n",
              "      <td>4</td>\n",
              "      <td>6</td>\n",
              "    </tr>\n",
              "    <tr>\n",
              "      <th>3</th>\n",
              "      <td>3</td>\n",
              "      <td>Miguel Poveda</td>\n",
              "      <td>Coplas Del Querer</td>\n",
              "      <td>40.0</td>\n",
              "      <td>0.508</td>\n",
              "      <td>0.287</td>\n",
              "      <td>5.0</td>\n",
              "      <td>-8.898</td>\n",
              "      <td>0</td>\n",
              "      <td>0.0481</td>\n",
              "      <td>0.83400</td>\n",
              "      <td>NaN</td>\n",
              "      <td>0.0963</td>\n",
              "      <td>0.3240</td>\n",
              "      <td>96.139</td>\n",
              "      <td>332467.000000</td>\n",
              "      <td>3</td>\n",
              "      <td>9</td>\n",
              "    </tr>\n",
              "    <tr>\n",
              "      <th>4</th>\n",
              "      <td>4</td>\n",
              "      <td>Leif Vollebekk</td>\n",
              "      <td>Long Blue Light</td>\n",
              "      <td>63.0</td>\n",
              "      <td>0.552</td>\n",
              "      <td>0.485</td>\n",
              "      <td>9.0</td>\n",
              "      <td>-9.111</td>\n",
              "      <td>1</td>\n",
              "      <td>0.0332</td>\n",
              "      <td>0.51700</td>\n",
              "      <td>0.106000</td>\n",
              "      <td>0.1640</td>\n",
              "      <td>0.5100</td>\n",
              "      <td>71.548</td>\n",
              "      <td>200173.000000</td>\n",
              "      <td>4</td>\n",
              "      <td>1</td>\n",
              "    </tr>\n",
              "    <tr>\n",
              "      <th>...</th>\n",
              "      <td>...</td>\n",
              "      <td>...</td>\n",
              "      <td>...</td>\n",
              "      <td>...</td>\n",
              "      <td>...</td>\n",
              "      <td>...</td>\n",
              "      <td>...</td>\n",
              "      <td>...</td>\n",
              "      <td>...</td>\n",
              "      <td>...</td>\n",
              "      <td>...</td>\n",
              "      <td>...</td>\n",
              "      <td>...</td>\n",
              "      <td>...</td>\n",
              "      <td>...</td>\n",
              "      <td>...</td>\n",
              "      <td>...</td>\n",
              "      <td>...</td>\n",
              "    </tr>\n",
              "    <tr>\n",
              "      <th>14391</th>\n",
              "      <td>14391</td>\n",
              "      <td>Ólafur Arnalds, Alice Sara Ott</td>\n",
              "      <td>Verses</td>\n",
              "      <td>42.0</td>\n",
              "      <td>0.140</td>\n",
              "      <td>0.159</td>\n",
              "      <td>1.0</td>\n",
              "      <td>-17.845</td>\n",
              "      <td>0</td>\n",
              "      <td>0.0401</td>\n",
              "      <td>0.86700</td>\n",
              "      <td>0.917000</td>\n",
              "      <td>0.3920</td>\n",
              "      <td>0.0331</td>\n",
              "      <td>142.239</td>\n",
              "      <td>4.052667</td>\n",
              "      <td>3</td>\n",
              "      <td>7</td>\n",
              "    </tr>\n",
              "    <tr>\n",
              "      <th>14392</th>\n",
              "      <td>14392</td>\n",
              "      <td>Citizen Cope</td>\n",
              "      <td>Something to Believe In</td>\n",
              "      <td>50.0</td>\n",
              "      <td>0.659</td>\n",
              "      <td>0.882</td>\n",
              "      <td>5.0</td>\n",
              "      <td>-7.039</td>\n",
              "      <td>1</td>\n",
              "      <td>0.0527</td>\n",
              "      <td>0.04620</td>\n",
              "      <td>0.011500</td>\n",
              "      <td>0.0919</td>\n",
              "      <td>0.8810</td>\n",
              "      <td>156.099</td>\n",
              "      <td>221840.000000</td>\n",
              "      <td>4</td>\n",
              "      <td>10</td>\n",
              "    </tr>\n",
              "    <tr>\n",
              "      <th>14393</th>\n",
              "      <td>14393</td>\n",
              "      <td>WurlD</td>\n",
              "      <td>WAYO (KPE LE WU)</td>\n",
              "      <td>41.0</td>\n",
              "      <td>0.696</td>\n",
              "      <td>0.535</td>\n",
              "      <td>4.0</td>\n",
              "      <td>-8.053</td>\n",
              "      <td>0</td>\n",
              "      <td>0.1460</td>\n",
              "      <td>0.42100</td>\n",
              "      <td>0.000018</td>\n",
              "      <td>0.1070</td>\n",
              "      <td>0.6620</td>\n",
              "      <td>91.943</td>\n",
              "      <td>196093.000000</td>\n",
              "      <td>4</td>\n",
              "      <td>9</td>\n",
              "    </tr>\n",
              "    <tr>\n",
              "      <th>14394</th>\n",
              "      <td>14394</td>\n",
              "      <td>Rafferty</td>\n",
              "      <td>Making a Home</td>\n",
              "      <td>48.0</td>\n",
              "      <td>0.412</td>\n",
              "      <td>0.571</td>\n",
              "      <td>11.0</td>\n",
              "      <td>-6.006</td>\n",
              "      <td>1</td>\n",
              "      <td>0.0387</td>\n",
              "      <td>0.30400</td>\n",
              "      <td>NaN</td>\n",
              "      <td>0.2370</td>\n",
              "      <td>0.4730</td>\n",
              "      <td>159.697</td>\n",
              "      <td>238173.000000</td>\n",
              "      <td>4</td>\n",
              "      <td>9</td>\n",
              "    </tr>\n",
              "    <tr>\n",
              "      <th>14395</th>\n",
              "      <td>14395</td>\n",
              "      <td>Machine Head</td>\n",
              "      <td>Is There Anybody out There?</td>\n",
              "      <td>63.0</td>\n",
              "      <td>0.408</td>\n",
              "      <td>0.953</td>\n",
              "      <td>7.0</td>\n",
              "      <td>-3.883</td>\n",
              "      <td>1</td>\n",
              "      <td>0.2260</td>\n",
              "      <td>0.00532</td>\n",
              "      <td>NaN</td>\n",
              "      <td>0.3380</td>\n",
              "      <td>0.2910</td>\n",
              "      <td>177.940</td>\n",
              "      <td>272666.000000</td>\n",
              "      <td>4</td>\n",
              "      <td>10</td>\n",
              "    </tr>\n",
              "  </tbody>\n",
              "</table>\n",
              "<p>14396 rows × 18 columns</p>\n",
              "</div>\n",
              "      <button class=\"colab-df-convert\" onclick=\"convertToInteractive('df-3bc3ea1d-dac9-4c83-b079-c962411b0450')\"\n",
              "              title=\"Convert this dataframe to an interactive table.\"\n",
              "              style=\"display:none;\">\n",
              "        \n",
              "  <svg xmlns=\"http://www.w3.org/2000/svg\" height=\"24px\"viewBox=\"0 0 24 24\"\n",
              "       width=\"24px\">\n",
              "    <path d=\"M0 0h24v24H0V0z\" fill=\"none\"/>\n",
              "    <path d=\"M18.56 5.44l.94 2.06.94-2.06 2.06-.94-2.06-.94-.94-2.06-.94 2.06-2.06.94zm-11 1L8.5 8.5l.94-2.06 2.06-.94-2.06-.94L8.5 2.5l-.94 2.06-2.06.94zm10 10l.94 2.06.94-2.06 2.06-.94-2.06-.94-.94-2.06-.94 2.06-2.06.94z\"/><path d=\"M17.41 7.96l-1.37-1.37c-.4-.4-.92-.59-1.43-.59-.52 0-1.04.2-1.43.59L10.3 9.45l-7.72 7.72c-.78.78-.78 2.05 0 2.83L4 21.41c.39.39.9.59 1.41.59.51 0 1.02-.2 1.41-.59l7.78-7.78 2.81-2.81c.8-.78.8-2.07 0-2.86zM5.41 20L4 18.59l7.72-7.72 1.47 1.35L5.41 20z\"/>\n",
              "  </svg>\n",
              "      </button>\n",
              "      \n",
              "  <style>\n",
              "    .colab-df-container {\n",
              "      display:flex;\n",
              "      flex-wrap:wrap;\n",
              "      gap: 12px;\n",
              "    }\n",
              "\n",
              "    .colab-df-convert {\n",
              "      background-color: #E8F0FE;\n",
              "      border: none;\n",
              "      border-radius: 50%;\n",
              "      cursor: pointer;\n",
              "      display: none;\n",
              "      fill: #1967D2;\n",
              "      height: 32px;\n",
              "      padding: 0 0 0 0;\n",
              "      width: 32px;\n",
              "    }\n",
              "\n",
              "    .colab-df-convert:hover {\n",
              "      background-color: #E2EBFA;\n",
              "      box-shadow: 0px 1px 2px rgba(60, 64, 67, 0.3), 0px 1px 3px 1px rgba(60, 64, 67, 0.15);\n",
              "      fill: #174EA6;\n",
              "    }\n",
              "\n",
              "    [theme=dark] .colab-df-convert {\n",
              "      background-color: #3B4455;\n",
              "      fill: #D2E3FC;\n",
              "    }\n",
              "\n",
              "    [theme=dark] .colab-df-convert:hover {\n",
              "      background-color: #434B5C;\n",
              "      box-shadow: 0px 1px 3px 1px rgba(0, 0, 0, 0.15);\n",
              "      filter: drop-shadow(0px 1px 2px rgba(0, 0, 0, 0.3));\n",
              "      fill: #FFFFFF;\n",
              "    }\n",
              "  </style>\n",
              "\n",
              "      <script>\n",
              "        const buttonEl =\n",
              "          document.querySelector('#df-3bc3ea1d-dac9-4c83-b079-c962411b0450 button.colab-df-convert');\n",
              "        buttonEl.style.display =\n",
              "          google.colab.kernel.accessAllowed ? 'block' : 'none';\n",
              "\n",
              "        async function convertToInteractive(key) {\n",
              "          const element = document.querySelector('#df-3bc3ea1d-dac9-4c83-b079-c962411b0450');\n",
              "          const dataTable =\n",
              "            await google.colab.kernel.invokeFunction('convertToInteractive',\n",
              "                                                     [key], {});\n",
              "          if (!dataTable) return;\n",
              "\n",
              "          const docLinkHtml = 'Like what you see? Visit the ' +\n",
              "            '<a target=\"_blank\" href=https://colab.research.google.com/notebooks/data_table.ipynb>data table notebook</a>'\n",
              "            + ' to learn more about interactive tables.';\n",
              "          element.innerHTML = '';\n",
              "          dataTable['output_type'] = 'display_data';\n",
              "          await google.colab.output.renderOutput(dataTable, element);\n",
              "          const docLink = document.createElement('div');\n",
              "          docLink.innerHTML = docLinkHtml;\n",
              "          element.appendChild(docLink);\n",
              "        }\n",
              "      </script>\n",
              "    </div>\n",
              "  </div>\n",
              "  "
            ]
          },
          "metadata": {},
          "execution_count": 12
        }
      ],
      "source": [
        "data"
      ]
    },
    {
      "cell_type": "markdown",
      "metadata": {
        "id": "lRZx5pPZUX5b"
      },
      "source": [
        "\n",
        "**Discussion:**\n",
        "***\n",
        "In this dataset there are no duplicated values ,so we can ignore the processing steps of duplicated data"
      ]
    },
    {
      "cell_type": "markdown",
      "metadata": {
        "id": "ZhOEUYTmUcty"
      },
      "source": [
        "## **Analysis Data and Visulization**"
      ]
    },
    {
      "cell_type": "markdown",
      "metadata": {
        "id": "F-FQQx0BUl-b"
      },
      "source": [
        "**1.Histograms for numerical attributes**"
      ]
    },
    {
      "cell_type": "code",
      "execution_count": null,
      "metadata": {
        "colab": {
          "base_uri": "https://localhost:8080/"
        },
        "id": "bpNU2Q3kUIh6",
        "outputId": "35cc7843-12ed-45e7-8514-a1aba2cd58b8"
      },
      "outputs": [
        {
          "output_type": "display_data",
          "data": {
            "text/plain": [
              "<Figure size 1080x1080 with 16 Axes>"
            ],
            "image/png": "[encoded data removed]"
          },
          "metadata": {
            "needs_background": "light"
          }
        }
      ],
      "source": [
        "#Plot histogram for all for each numerical attribute \n",
        "data.hist(bins=30, figsize=(15,15))\n",
        "plt.show()"
      ]
    },
    {
      "cell_type": "code",
      "execution_count": null,
      "metadata": {
        "colab": {
          "base_uri": "https://localhost:8080/"
        },
        "id": "3dy9CRr4PHC_",
        "outputId": "c627b4e0-1e4c-4c75-aa0b-4e4e2453e07f"
      },
      "outputs": [
        {
          "output_type": "execute_result",
          "data": {
            "text/plain": [
              "Index(['id', 'Artist Name', 'Track Name', 'Popularity', 'danceability',\n",
              "       'energy', 'key', 'loudness', 'mode', 'speechiness', 'acousticness',\n",
              "       'instrumentalness', 'liveness', 'valence', 'tempo',\n",
              "       'duration_in min/ms', 'time_signature', 'Class'],\n",
              "      dtype='object')"
            ]
          },
          "metadata": {},
          "execution_count": 14
        }
      ],
      "source": [
        "data.columns"
      ]
    },
    {
      "cell_type": "markdown",
      "metadata": {
        "id": "Rd8BM8YWN0rR"
      },
      "source": [
        "**Discussion:**\n",
        "***\n",
        "By analysis every numerical attribute:\n",
        "\n",
        "**1-ID** have to be deleted \n",
        "\n",
        "**2-popularity** : [0-100]  with almost normal distribution\n",
        "\n",
        "**3-danceability** : [0-100] with almost normal distribution\n",
        "\n",
        "**4-energy** : [0-1]\n",
        "\n",
        "**5-key** : categorecal [1,11] c,c#....\n",
        "\n",
        "**6-Loudness**: [-39.9 , 1.3] \n",
        "\n",
        "**7-mode**: categorecal [0,1] 0:minor/1:major\n",
        "\n",
        "**8-speachiness** : [0,1]\n",
        "*   > 0.66  :  totaly speach\n",
        "*   < 0.66   &   > 0.33 : mix of speach and music\n",
        "*   < 0.33 : totaly music\n",
        "\n",
        "**9-acousticness** : confidence measure [0,1] \n",
        "\n",
        "**10-instrumentalness**: [0,1]\n",
        "*   > 0.5 : tend to be by instruments\n",
        "*   < 0.5 : tend to be human vocal \n",
        "\n",
        "**11-liveness** : [0.1] live if >0.8 \n",
        "\n",
        "**12-valence**: [0,1] happy/high sad/low\n",
        "\n",
        "**13-tempo**:BPM [30.0 , 217.4]\n",
        "\n",
        "**14-duration**:time [0.5 , 1.4 e6]\n",
        "\n",
        "**15-time_signature**:calegorical [1.5]\n",
        "\n",
        "\n",
        "\n",
        "\n",
        "\n"
      ]
    },
    {
      "cell_type": "markdown",
      "metadata": {
        "id": "P_pEtz1-VP-R"
      },
      "source": [
        "2.scatter matrix plots every numerical attribute"
      ]
    },
    {
      "cell_type": "markdown",
      "metadata": {
        "id": "Fig1H3u-XNqb"
      },
      "source": [
        "**3.look for correlations among the features**"
      ]
    },
    {
      "cell_type": "code",
      "execution_count": null,
      "metadata": {
        "colab": {
          "base_uri": "https://localhost:8080/"
        },
        "id": "YWRXeNnwVe_L",
        "outputId": "59ab0c2e-5ab2-41b2-8148-00d0b2ce1989"
      },
      "outputs": [
        {
          "output_type": "display_data",
          "data": {
            "text/plain": [
              "<Figure size 792x792 with 2 Axes>"
            ],
            "image/png": "[encoded data removed]"
          },
          "metadata": {
            "needs_background": "light"
          }
        }
      ],
      "source": [
        "\n",
        "plt.figure(figsize=(11, 11))\n",
        "sns.heatmap(data.corr(),cmap=\"YlGnBu\",annot=True)\n",
        "plt.show()"
      ]
    },
    {
      "cell_type": "markdown",
      "metadata": {
        "id": "rN58LDY55kPZ"
      },
      "source": [
        "**Discussion:**\n",
        "***\n",
        "we can notice that:\n",
        "\n",
        "- \"energy\" correlated with \"loudness\" with 0.77\n",
        "\n",
        "- \"energy\" correlated with \"acousticeness\" with -0.75\n",
        "\n",
        "- \"acousticeness\" correlated with \"loudness\" -0.61\n"
      ]
    },
    {
      "cell_type": "markdown",
      "metadata": {
        "id": "Zo3aRGMu_CnM"
      },
      "source": [
        "***\n",
        "There is a correlation between energy &  loudness-acousticeness"
      ]
    },
    {
      "cell_type": "code",
      "execution_count": null,
      "metadata": {
        "colab": {
          "base_uri": "https://localhost:8080/"
        },
        "id": "KS9qyd_IXRtp",
        "outputId": "9f88c3cf-737b-47c6-9fb5-0ae5e7bb5c3d"
      },
      "outputs": [
        {
          "output_type": "execute_result",
          "data": {
            "text/plain": [
              "Class                 1.000000\n",
              "energy                0.221837\n",
              "duration_in min/ms    0.205521\n",
              "loudness              0.179647\n",
              "Popularity            0.159977\n",
              "time_signature        0.047389\n",
              "liveness              0.041245\n",
              "tempo                 0.031248\n",
              "id                   -0.004332\n",
              "key                  -0.010587\n",
              "instrumentalness     -0.025039\n",
              "mode                 -0.043674\n",
              "speechiness          -0.055894\n",
              "valence              -0.078111\n",
              "danceability         -0.101228\n",
              "acousticness         -0.241062\n",
              "Name: Class, dtype: float64"
            ]
          },
          "metadata": {},
          "execution_count": 16
        }
      ],
      "source": [
        "corr_matrix = data.corr()\n",
        "corr_matrix[\"Class\"].sort_values(ascending=False)"
      ]
    },
    {
      "cell_type": "markdown",
      "metadata": {
        "id": "4_IeSGunZu1h"
      },
      "source": [
        "**4.discover categorical values of columns**"
      ]
    },
    {
      "cell_type": "markdown",
      "metadata": {
        "id": "DgL3G1E3Z0aY"
      },
      "source": [
        "**Notice:**\n",
        "***\n",
        "As we see when we discover the data by info function ,there are three columns have categorical values ,so we have to discover these columns"
      ]
    },
    {
      "cell_type": "code",
      "execution_count": null,
      "metadata": {
        "colab": {
          "base_uri": "https://localhost:8080/"
        },
        "id": "ZymAqQNVXamD",
        "outputId": "a19fca32-af08-4871-e39e-582acce8b258"
      },
      "outputs": [
        {
          "output_type": "execute_result",
          "data": {
            "text/plain": [
              "Backstreet Boys                  59\n",
              "Westlife                         48\n",
              "Britney Spears                   43\n",
              "Eyal Golan                       42\n",
              "Omer Adam                        34\n",
              "                                 ..\n",
              "Luz                               1\n",
              "Ammonia                           1\n",
              "Velvet Two Stripes                1\n",
              "Mahendra Kapoor, Manhar Udhas     1\n",
              "WurlD                             1\n",
              "Name: Artist Name, Length: 7891, dtype: int64"
            ]
          },
          "metadata": {},
          "execution_count": 17
        }
      ],
      "source": [
        "#Artist Name column\n",
        "data[\"Artist Name\"].value_counts()"
      ]
    },
    {
      "cell_type": "code",
      "execution_count": null,
      "metadata": {
        "colab": {
          "base_uri": "https://localhost:8080/"
        },
        "id": "pQwNFo6wZ67k",
        "outputId": "e067861c-b019-4f82-d023-301b8b6c48ec"
      },
      "outputs": [
        {
          "output_type": "execute_result",
          "data": {
            "text/plain": [
              "Dreams                              8\n",
              "Hurricane                           7\n",
              "Forever                             7\n",
              "Runaway                             7\n",
              "Fire                                7\n",
              "                                   ..\n",
              "El Sicuri                           1\n",
              "Like a Hurricane - 2003 Remaster    1\n",
              "Necrogenic Resurrection             1\n",
              "Love's Gonna Live Here              1\n",
              "Is There Anybody out There?         1\n",
              "Name: Track Name, Length: 12396, dtype: int64"
            ]
          },
          "metadata": {},
          "execution_count": 18
        }
      ],
      "source": [
        "#Track Name column\n",
        "data[\"Track Name\"].value_counts()"
      ]
    },
    {
      "cell_type": "markdown",
      "metadata": {
        "id": "AIczNwb7qfBA"
      },
      "source": [
        "## - discover all features"
      ]
    },
    {
      "cell_type": "code",
      "execution_count": null,
      "metadata": {
        "colab": {
          "base_uri": "https://localhost:8080/"
        },
        "id": "UsqEQX_Rr4CE",
        "outputId": "9bf6d639-2a6b-4268-c1c9-3ae0dcc05646"
      },
      "outputs": [
        {
          "output_type": "execute_result",
          "data": {
            "text/plain": [
              "count    14396.000000\n",
              "mean         0.542981\n",
              "std          0.166668\n",
              "min          0.059600\n",
              "25%          0.430000\n",
              "50%          0.545000\n",
              "75%          0.659000\n",
              "max          0.989000\n",
              "Name: danceability, dtype: float64"
            ]
          },
          "metadata": {},
          "execution_count": 19
        }
      ],
      "source": [
        "data[\"danceability\"].describe()"
      ]
    },
    {
      "cell_type": "markdown",
      "metadata": {
        "id": "9PeJUPqSDKqQ"
      },
      "source": [
        "## Discover the Classes"
      ]
    },
    {
      "cell_type": "code",
      "execution_count": null,
      "metadata": {
        "colab": {
          "base_uri": "https://localhost:8080/"
        },
        "id": "LaXzHbK-hA51",
        "outputId": "03d5f96c-ad84-428a-a033-50c93b9b7eae"
      },
      "outputs": [
        {
          "output_type": "display_data",
          "data": {
            "text/plain": [
              "<Figure size 504x504 with 1 Axes>"
            ],
            "image/png": "[encoded data removed]"
          },
          "metadata": {}
        }
      ],
      "source": [
        "#extarct the information\n",
        "data2=data[\"Class\"]\n",
        "k3=data[\"Class\"].unique()\n",
        "\n",
        "g=[ (k3[i],data[data2==k3[i]].shape[0])  for i in range(len(k3)) ]\n",
        "\n",
        "labels2,groups2=zip(*g)\n",
        "\n",
        "# Create a pieplot\n",
        "plt.figure(figsize=(7,7))\n",
        "\n",
        "plt.pie(x=groups2, autopct=\"%.1f%%\", labels=labels2, pctdistance=0.6)\n",
        "plt.title(\"Percentage of each Class\", fontsize=15);\n",
        "plt.show()"
      ]
    },
    {
      "cell_type": "markdown",
      "metadata": {
        "id": "Q6w09vPui-lj"
      },
      "source": [
        "**Discussion:**\n",
        "***\n",
        "The labels are imbalance and lead to bais to some class more than others, need to handle this"
      ]
    },
    {
      "cell_type": "markdown",
      "metadata": {
        "id": "x1Lwcack1Bpx"
      },
      "source": [
        "Descover distrebution:"
      ]
    },
    {
      "cell_type": "code",
      "execution_count": null,
      "metadata": {
        "id": "FHO70H6am-TC"
      },
      "outputs": [],
      "source": []
    },
    {
      "cell_type": "code",
      "execution_count": null,
      "metadata": {
        "colab": {
          "base_uri": "https://localhost:8080/"
        },
        "id": "InW4o4avzyRq",
        "outputId": "33fbc688-1fe0-4703-a898-30b28b638ce1"
      },
      "outputs": [
        {
          "output_type": "stream",
          "name": "stdout",
          "text": [
            "Skewness in id = 0.0\n",
            "Skewness in Popularity = 0.08006994251562351\n",
            "Skewness in danceability = -0.08229455923966875\n",
            "Skewness in energy = -0.6670626095486724\n",
            "Skewness in key = -0.0583807351306382\n",
            "Skewness in loudness = -1.7776077950622011\n",
            "Skewness in mode = -0.5769824559099634\n",
            "Skewness in speechiness = 3.0807581102048154\n",
            "Skewness in acousticness = 1.106557986566441\n",
            "Skewness in instrumentalness = 1.5330483684237448\n",
            "Skewness in liveness = 2.180116661982887\n",
            "Skewness in valence = 0.09330389122311882\n",
            "Skewness in tempo = 0.3805001787090443\n",
            "Skewness in duration_in min/ms = 0.8308030445786988\n",
            "Skewness in time_signature = -4.216940650892727\n",
            "Skewness in Class = -0.6665628522172123\n"
          ]
        }
      ],
      "source": [
        "df_cont = data.select_dtypes([int,float]) # store all integer or float columns in df_cont variable\n",
        "\n",
        "for i in df_cont.columns:\n",
        "  print(f'Skewness in {i} =',df_cont[i].skew())"
      ]
    },
    {
      "cell_type": "markdown",
      "metadata": {
        "id": "w4gfbRYG3Fgl"
      },
      "source": [
        "**Discussion:**\n",
        "***\n",
        "If skewness is in between -0.5 and 0.5, the data is  normally distributed so far."
      ]
    },
    {
      "cell_type": "markdown",
      "metadata": {
        "id": "REZeCVVxzy68"
      },
      "source": [
        "Descover Outliers"
      ]
    },
    {
      "cell_type": "code",
      "execution_count": null,
      "metadata": {
        "colab": {
          "base_uri": "https://localhost:8080/"
        },
        "id": "ws6IxsYMzyUC",
        "outputId": "fe5c99f1-4abf-4559-eff4-f330c2e6e40a"
      },
      "outputs": [
        {
          "output_type": "display_data",
          "data": {
            "text/plain": [
              "<Figure size 720x720 with 16 Axes>"
            ],
            "image/png": "[encoded data removed]"
          },
          "metadata": {
            "needs_background": "light"
          }
        }
      ],
      "source": [
        "df_cont = data.select_dtypes([int,float]) # store all integer or float columns in df_cont variable\n",
        "\n",
        "fig = plt.figure(figsize=(10, 10)) # sets the size of the 4 plot with width as 10 and height as 10\n",
        "for i,columns in enumerate(df_cont.columns, 1): \n",
        "  ax = plt.subplot(6,3,i) # creates 3 subplots in one single row\n",
        "  sns.boxplot(data = df_cont, x=df_cont[columns]) # creates box plots for each feature in df_cont dataset\n",
        "  ax.set_xlabel(None) # removes the labels on x-axis\n",
        "  ax.set_title(f'Distribution of {columns}') # adds a title to each subplot\n",
        "  plt.tight_layout(w_pad=3) # adds padding between the subplots\n",
        "plt.show() # displays the plots"
      ]
    },
    {
      "cell_type": "code",
      "execution_count": null,
      "metadata": {
        "colab": {
          "base_uri": "https://localhost:8080/"
        },
        "id": "O7opDCQdzyWP",
        "outputId": "e8b327c6-3cc6-41fc-e225-ca3f4f7f760d"
      },
      "outputs": [
        {
          "output_type": "execute_result",
          "data": {
            "text/plain": [
              "count    1.439600e+04\n",
              "mean     2.009550e+05\n",
              "std      1.118463e+05\n",
              "min      5.339167e-01\n",
              "25%      1.669988e+05\n",
              "50%      2.095845e+05\n",
              "75%      2.522970e+05\n",
              "max      1.477187e+06\n",
              "Name: duration_in min/ms, dtype: float64"
            ]
          },
          "metadata": {},
          "execution_count": 23
        }
      ],
      "source": [
        "data[\"duration_in min/ms\"].describe()"
      ]
    },
    {
      "cell_type": "code",
      "execution_count": null,
      "metadata": {
        "id": "v2kib9Usm-Vn"
      },
      "outputs": [],
      "source": [
        "data1=data"
      ]
    },
    {
      "cell_type": "markdown",
      "metadata": {
        "id": "bN9JRQ1ypJZR"
      },
      "source": [
        "## Split to training and testing sets:"
      ]
    },
    {
      "cell_type": "markdown",
      "metadata": {
        "id": "OjZG3CCUpZXR"
      },
      "source": [
        "split train/test datasets having equal classes proportion & shuffle data"
      ]
    },
    {
      "cell_type": "code",
      "execution_count": null,
      "metadata": {
        "id": "GhH1i33ChA8z"
      },
      "outputs": [],
      "source": [
        "X=data1.drop(\"Class\",axis=1)\n",
        "y=data1[\"Class\"]"
      ]
    },
    {
      "cell_type": "code",
      "execution_count": null,
      "metadata": {
        "id": "bIEskXH0hA_Z"
      },
      "outputs": [],
      "source": [
        " X_train, X_test, y_train, y_test=train_test_split(X, y, random_state=0,test_size=0.2, stratify=y, shuffle=True)"
      ]
    },
    {
      "cell_type": "code",
      "execution_count": null,
      "metadata": {
        "colab": {
          "base_uri": "https://localhost:8080/"
        },
        "id": "IVtbZSInVS3E",
        "outputId": "c9298c02-4505-49ea-9f83-1c4db422ae74"
      },
      "outputs": [
        {
          "output_type": "execute_result",
          "data": {
            "text/plain": [
              "10    3167\n",
              "6     1655\n",
              "9     1615\n",
              "8     1186\n",
              "5      926\n",
              "1      878\n",
              "2      814\n",
              "0      400\n",
              "7      369\n",
              "3      258\n",
              "4      248\n",
              "Name: Class, dtype: int64"
            ]
          },
          "metadata": {},
          "execution_count": 27
        }
      ],
      "source": [
        "y_train.value_counts()"
      ]
    },
    {
      "cell_type": "code",
      "execution_count": null,
      "metadata": {
        "colab": {
          "base_uri": "https://localhost:8080/"
        },
        "id": "ydn_8k0CnutZ",
        "outputId": "1b67604c-c0ea-4901-d13e-d26d0950baa8"
      },
      "outputs": [
        {
          "output_type": "execute_result",
          "data": {
            "text/plain": [
              "10    792\n",
              "6     414\n",
              "9     404\n",
              "8     297\n",
              "5     231\n",
              "1     220\n",
              "2     204\n",
              "0     100\n",
              "7      92\n",
              "3      64\n",
              "4      62\n",
              "Name: Class, dtype: int64"
            ]
          },
          "metadata": {},
          "execution_count": 28
        }
      ],
      "source": [
        "y_test.value_counts()"
      ]
    },
    {
      "cell_type": "code",
      "execution_count": null,
      "metadata": {
        "colab": {
          "base_uri": "https://localhost:8080/"
        },
        "id": "0VVOTNfXoZdi",
        "outputId": "b79b66b9-a239-46cd-904f-c2ae5a91ca18"
      },
      "outputs": [
        {
          "output_type": "execute_result",
          "data": {
            "text/plain": [
              "10    3959\n",
              "6     2069\n",
              "9     2019\n",
              "8     1483\n",
              "5     1157\n",
              "1     1098\n",
              "2     1018\n",
              "0      500\n",
              "7      461\n",
              "3      322\n",
              "4      310\n",
              "Name: Class, dtype: int64"
            ]
          },
          "metadata": {},
          "execution_count": 29
        }
      ],
      "source": [
        "data[\"Class\"].value_counts()"
      ]
    },
    {
      "cell_type": "markdown",
      "metadata": {
        "id": "WQPJYzTapygK"
      },
      "source": [
        "resampling data"
      ]
    },
    {
      "cell_type": "code",
      "execution_count": null,
      "metadata": {
        "id": "F7b14_me26ZT"
      },
      "outputs": [],
      "source": [
        "#from imblearn.combine import SMOTETomek\n",
        "#from imblearn.under_sampling import TomekLinks\n",
        "#resample=SMOTETomek(tomek=TomekLinks(sampling_strategy='majority'))\n",
        "#X_train, y_train = resample.fit_resample(X_train, y_train)"
      ]
    },
    {
      "cell_type": "code",
      "execution_count": null,
      "metadata": {
        "colab": {
          "base_uri": "https://localhost:8080/"
        },
        "id": "99FJgGkN3J1l",
        "outputId": "14727041-28c9-44cb-f90c-c5802940a9a2"
      },
      "outputs": [
        {
          "output_type": "execute_result",
          "data": {
            "text/plain": [
              "(11516, 17)"
            ]
          },
          "metadata": {},
          "execution_count": 31
        }
      ],
      "source": [
        "X_train.shape"
      ]
    },
    {
      "cell_type": "code",
      "execution_count": null,
      "metadata": {
        "id": "oDUSj_R-CEFs"
      },
      "outputs": [],
      "source": [
        "# concatenate our training data back together\n",
        "data1 = pd.concat([X_train, y_train], axis=1)"
      ]
    },
    {
      "cell_type": "code",
      "execution_count": null,
      "metadata": {
        "id": "RjM-22jzA5M0"
      },
      "outputs": [],
      "source": [
        "\n",
        "from sklearn.utils import shuffle\n",
        "data1 = shuffle(data1)\n",
        "data1.reset_index(inplace=True, drop=True)"
      ]
    },
    {
      "cell_type": "markdown",
      "metadata": {
        "id": "XiQSoY21cLc0"
      },
      "source": [
        "## **Prepare the Data for Machine Learning Algorithms**\n"
      ]
    },
    {
      "cell_type": "markdown",
      "metadata": {
        "id": "4yTMi_KMcMii"
      },
      "source": [
        "## A- Data Cleaning"
      ]
    },
    {
      "cell_type": "markdown",
      "metadata": {
        "id": "oa518_OscXQl"
      },
      "source": [
        "**missing values**"
      ]
    },
    {
      "cell_type": "code",
      "execution_count": null,
      "metadata": {
        "id": "dUfs9o3gcL8I"
      },
      "outputs": [],
      "source": [
        "#Popularity\n",
        "mean_pop=data1[\"Popularity\"].mean()\n",
        "data1=data1.fillna({\"Popularity\":mean_pop})"
      ]
    },
    {
      "cell_type": "code",
      "execution_count": null,
      "metadata": {
        "id": "gu3s-oRkdY7M"
      },
      "outputs": [],
      "source": [
        "#key\n",
        "from statistics import mode\n",
        "mode_key=mode(data1[\"key\"])\n",
        "data1=data1.fillna({\"key\":mode_key})"
      ]
    },
    {
      "cell_type": "code",
      "execution_count": null,
      "metadata": {
        "id": "sYa7as7wdrUJ"
      },
      "outputs": [],
      "source": [
        "#instrumentalness\n",
        "mean_instrumen=data1[\"instrumentalness\"].mean()\n",
        "data1=data1.fillna({\"instrumentalness\":mean_instrumen})"
      ]
    },
    {
      "cell_type": "code",
      "execution_count": null,
      "metadata": {
        "colab": {
          "base_uri": "https://localhost:8080/"
        },
        "id": "H5ilV1vid1VQ",
        "outputId": "1b4d4046-0641-4172-839e-2a52baa05a38"
      },
      "outputs": [
        {
          "output_type": "execute_result",
          "data": {
            "text/plain": [
              "id                    0\n",
              "Artist Name           0\n",
              "Track Name            0\n",
              "Popularity            0\n",
              "danceability          0\n",
              "energy                0\n",
              "key                   0\n",
              "loudness              0\n",
              "mode                  0\n",
              "speechiness           0\n",
              "acousticness          0\n",
              "instrumentalness      0\n",
              "liveness              0\n",
              "valence               0\n",
              "tempo                 0\n",
              "duration_in min/ms    0\n",
              "time_signature        0\n",
              "Class                 0\n",
              "dtype: int64"
            ]
          },
          "metadata": {},
          "execution_count": 37
        }
      ],
      "source": [
        "data1.isna().sum()"
      ]
    },
    {
      "cell_type": "markdown",
      "metadata": {
        "id": "fK1XwGEqgJzJ"
      },
      "source": [
        "## B-Remove outliers"
      ]
    },
    {
      "cell_type": "code",
      "execution_count": null,
      "metadata": {
        "colab": {
          "base_uri": "https://localhost:8080/"
        },
        "id": "un_FAM2Hf3i-",
        "outputId": "38750404-efec-4383-8b20-e473c8c07824"
      },
      "outputs": [
        {
          "output_type": "execute_result",
          "data": {
            "text/plain": [
              "Index(['id', 'Artist Name', 'Track Name', 'Popularity', 'danceability',\n",
              "       'energy', 'key', 'loudness', 'mode', 'speechiness', 'acousticness',\n",
              "       'instrumentalness', 'liveness', 'valence', 'tempo',\n",
              "       'duration_in min/ms', 'time_signature', 'Class'],\n",
              "      dtype='object')"
            ]
          },
          "metadata": {},
          "execution_count": 38
        }
      ],
      "source": [
        "data1.columns"
      ]
    },
    {
      "cell_type": "markdown",
      "metadata": {
        "id": "DbilZR1MgNaa"
      },
      "source": [
        "## C-Handling Text and Categorical Attributes"
      ]
    },
    {
      "cell_type": "code",
      "execution_count": null,
      "metadata": {
        "colab": {
          "base_uri": "https://localhost:8080/"
        },
        "id": "JP669qqpgN2Y",
        "outputId": "103cc3f0-c2b6-4ff6-8c52-044aa615089f"
      },
      "outputs": [
        {
          "output_type": "execute_result",
          "data": {
            "text/plain": [
              "   Popularity  danceability  energy  key  loudness  mode  speechiness  \\\n",
              "0        70.0         0.427   0.666  5.0    -7.902     0       0.0415   \n",
              "1        69.0         0.510   0.696  4.0   -10.830     1       0.0802   \n",
              "2        71.0         0.562   0.383  6.0   -15.474     1       0.0304   \n",
              "3        43.0         0.537   0.823  9.0    -5.874     1       0.0322   \n",
              "4        34.0         0.752   0.568  2.0    -8.235     0       0.0893   \n",
              "\n",
              "   acousticness  instrumentalness  liveness  valence    tempo  \\\n",
              "0       0.17600          0.229000    0.0856    0.232   85.022   \n",
              "1       0.01570          0.000104    0.2970    0.905  176.568   \n",
              "2       0.14300          0.124000    0.1380    0.599   93.764   \n",
              "3       0.00784          0.000002    0.1220    0.759  132.241   \n",
              "4       0.14000          0.180179    0.1270    0.511  102.090   \n",
              "\n",
              "   duration_in min/ms  time_signature  Class  \n",
              "0            215771.0               4      9  \n",
              "1            359733.0               4     10  \n",
              "2            206760.0               3     10  \n",
              "3            151827.0               4      2  \n",
              "4            195294.0               4      9  "
            ],
            "text/html": [
              "\n",
              "  <div id=\"df-4ee730bf-1419-441c-a2e1-e2cdf74392cc\">\n",
              "    <div class=\"colab-df-container\">\n",
              "      <div>\n",
              "<style scoped>\n",
              "    .dataframe tbody tr th:only-of-type {\n",
              "        vertical-align: middle;\n",
              "    }\n",
              "\n",
              "    .dataframe tbody tr th {\n",
              "        vertical-align: top;\n",
              "    }\n",
              "\n",
              "    .dataframe thead th {\n",
              "        text-align: right;\n",
              "    }\n",
              "</style>\n",
              "<table border=\"1\" class=\"dataframe\">\n",
              "  <thead>\n",
              "    <tr style=\"text-align: right;\">\n",
              "      <th></th>\n",
              "      <th>Popularity</th>\n",
              "      <th>danceability</th>\n",
              "      <th>energy</th>\n",
              "      <th>key</th>\n",
              "      <th>loudness</th>\n",
              "      <th>mode</th>\n",
              "      <th>speechiness</th>\n",
              "      <th>acousticness</th>\n",
              "      <th>instrumentalness</th>\n",
              "      <th>liveness</th>\n",
              "      <th>valence</th>\n",
              "      <th>tempo</th>\n",
              "      <th>duration_in min/ms</th>\n",
              "      <th>time_signature</th>\n",
              "      <th>Class</th>\n",
              "    </tr>\n",
              "  </thead>\n",
              "  <tbody>\n",
              "    <tr>\n",
              "      <th>0</th>\n",
              "      <td>70.0</td>\n",
              "      <td>0.427</td>\n",
              "      <td>0.666</td>\n",
              "      <td>5.0</td>\n",
              "      <td>-7.902</td>\n",
              "      <td>0</td>\n",
              "      <td>0.0415</td>\n",
              "      <td>0.17600</td>\n",
              "      <td>0.229000</td>\n",
              "      <td>0.0856</td>\n",
              "      <td>0.232</td>\n",
              "      <td>85.022</td>\n",
              "      <td>215771.0</td>\n",
              "      <td>4</td>\n",
              "      <td>9</td>\n",
              "    </tr>\n",
              "    <tr>\n",
              "      <th>1</th>\n",
              "      <td>69.0</td>\n",
              "      <td>0.510</td>\n",
              "      <td>0.696</td>\n",
              "      <td>4.0</td>\n",
              "      <td>-10.830</td>\n",
              "      <td>1</td>\n",
              "      <td>0.0802</td>\n",
              "      <td>0.01570</td>\n",
              "      <td>0.000104</td>\n",
              "      <td>0.2970</td>\n",
              "      <td>0.905</td>\n",
              "      <td>176.568</td>\n",
              "      <td>359733.0</td>\n",
              "      <td>4</td>\n",
              "      <td>10</td>\n",
              "    </tr>\n",
              "    <tr>\n",
              "      <th>2</th>\n",
              "      <td>71.0</td>\n",
              "      <td>0.562</td>\n",
              "      <td>0.383</td>\n",
              "      <td>6.0</td>\n",
              "      <td>-15.474</td>\n",
              "      <td>1</td>\n",
              "      <td>0.0304</td>\n",
              "      <td>0.14300</td>\n",
              "      <td>0.124000</td>\n",
              "      <td>0.1380</td>\n",
              "      <td>0.599</td>\n",
              "      <td>93.764</td>\n",
              "      <td>206760.0</td>\n",
              "      <td>3</td>\n",
              "      <td>10</td>\n",
              "    </tr>\n",
              "    <tr>\n",
              "      <th>3</th>\n",
              "      <td>43.0</td>\n",
              "      <td>0.537</td>\n",
              "      <td>0.823</td>\n",
              "      <td>9.0</td>\n",
              "      <td>-5.874</td>\n",
              "      <td>1</td>\n",
              "      <td>0.0322</td>\n",
              "      <td>0.00784</td>\n",
              "      <td>0.000002</td>\n",
              "      <td>0.1220</td>\n",
              "      <td>0.759</td>\n",
              "      <td>132.241</td>\n",
              "      <td>151827.0</td>\n",
              "      <td>4</td>\n",
              "      <td>2</td>\n",
              "    </tr>\n",
              "    <tr>\n",
              "      <th>4</th>\n",
              "      <td>34.0</td>\n",
              "      <td>0.752</td>\n",
              "      <td>0.568</td>\n",
              "      <td>2.0</td>\n",
              "      <td>-8.235</td>\n",
              "      <td>0</td>\n",
              "      <td>0.0893</td>\n",
              "      <td>0.14000</td>\n",
              "      <td>0.180179</td>\n",
              "      <td>0.1270</td>\n",
              "      <td>0.511</td>\n",
              "      <td>102.090</td>\n",
              "      <td>195294.0</td>\n",
              "      <td>4</td>\n",
              "      <td>9</td>\n",
              "    </tr>\n",
              "  </tbody>\n",
              "</table>\n",
              "</div>\n",
              "      <button class=\"colab-df-convert\" onclick=\"convertToInteractive('df-4ee730bf-1419-441c-a2e1-e2cdf74392cc')\"\n",
              "              title=\"Convert this dataframe to an interactive table.\"\n",
              "              style=\"display:none;\">\n",
              "        \n",
              "  <svg xmlns=\"http://www.w3.org/2000/svg\" height=\"24px\"viewBox=\"0 0 24 24\"\n",
              "       width=\"24px\">\n",
              "    <path d=\"M0 0h24v24H0V0z\" fill=\"none\"/>\n",
              "    <path d=\"M18.56 5.44l.94 2.06.94-2.06 2.06-.94-2.06-.94-.94-2.06-.94 2.06-2.06.94zm-11 1L8.5 8.5l.94-2.06 2.06-.94-2.06-.94L8.5 2.5l-.94 2.06-2.06.94zm10 10l.94 2.06.94-2.06 2.06-.94-2.06-.94-.94-2.06-.94 2.06-2.06.94z\"/><path d=\"M17.41 7.96l-1.37-1.37c-.4-.4-.92-.59-1.43-.59-.52 0-1.04.2-1.43.59L10.3 9.45l-7.72 7.72c-.78.78-.78 2.05 0 2.83L4 21.41c.39.39.9.59 1.41.59.51 0 1.02-.2 1.41-.59l7.78-7.78 2.81-2.81c.8-.78.8-2.07 0-2.86zM5.41 20L4 18.59l7.72-7.72 1.47 1.35L5.41 20z\"/>\n",
              "  </svg>\n",
              "      </button>\n",
              "      \n",
              "  <style>\n",
              "    .colab-df-container {\n",
              "      display:flex;\n",
              "      flex-wrap:wrap;\n",
              "      gap: 12px;\n",
              "    }\n",
              "\n",
              "    .colab-df-convert {\n",
              "      background-color: #E8F0FE;\n",
              "      border: none;\n",
              "      border-radius: 50%;\n",
              "      cursor: pointer;\n",
              "      display: none;\n",
              "      fill: #1967D2;\n",
              "      height: 32px;\n",
              "      padding: 0 0 0 0;\n",
              "      width: 32px;\n",
              "    }\n",
              "\n",
              "    .colab-df-convert:hover {\n",
              "      background-color: #E2EBFA;\n",
              "      box-shadow: 0px 1px 2px rgba(60, 64, 67, 0.3), 0px 1px 3px 1px rgba(60, 64, 67, 0.15);\n",
              "      fill: #174EA6;\n",
              "    }\n",
              "\n",
              "    [theme=dark] .colab-df-convert {\n",
              "      background-color: #3B4455;\n",
              "      fill: #D2E3FC;\n",
              "    }\n",
              "\n",
              "    [theme=dark] .colab-df-convert:hover {\n",
              "      background-color: #434B5C;\n",
              "      box-shadow: 0px 1px 3px 1px rgba(0, 0, 0, 0.15);\n",
              "      filter: drop-shadow(0px 1px 2px rgba(0, 0, 0, 0.3));\n",
              "      fill: #FFFFFF;\n",
              "    }\n",
              "  </style>\n",
              "\n",
              "      <script>\n",
              "        const buttonEl =\n",
              "          document.querySelector('#df-4ee730bf-1419-441c-a2e1-e2cdf74392cc button.colab-df-convert');\n",
              "        buttonEl.style.display =\n",
              "          google.colab.kernel.accessAllowed ? 'block' : 'none';\n",
              "\n",
              "        async function convertToInteractive(key) {\n",
              "          const element = document.querySelector('#df-4ee730bf-1419-441c-a2e1-e2cdf74392cc');\n",
              "          const dataTable =\n",
              "            await google.colab.kernel.invokeFunction('convertToInteractive',\n",
              "                                                     [key], {});\n",
              "          if (!dataTable) return;\n",
              "\n",
              "          const docLinkHtml = 'Like what you see? Visit the ' +\n",
              "            '<a target=\"_blank\" href=https://colab.research.google.com/notebooks/data_table.ipynb>data table notebook</a>'\n",
              "            + ' to learn more about interactive tables.';\n",
              "          element.innerHTML = '';\n",
              "          dataTable['output_type'] = 'display_data';\n",
              "          await google.colab.output.renderOutput(dataTable, element);\n",
              "          const docLink = document.createElement('div');\n",
              "          docLink.innerHTML = docLinkHtml;\n",
              "          element.appendChild(docLink);\n",
              "        }\n",
              "      </script>\n",
              "    </div>\n",
              "  </div>\n",
              "  "
            ]
          },
          "metadata": {},
          "execution_count": 39
        }
      ],
      "source": [
        "data1=data1.drop(['id', 'Artist Name','Track Name'],axis=1)\n",
        "data1.head()"
      ]
    },
    {
      "cell_type": "markdown",
      "metadata": {
        "id": "llLeP5b-1jB7"
      },
      "source": [
        "## D-handle formating issues"
      ]
    },
    {
      "cell_type": "code",
      "execution_count": null,
      "metadata": {
        "id": "lXAs-Pbc1yfH"
      },
      "outputs": [],
      "source": [
        "data4=data1"
      ]
    },
    {
      "cell_type": "code",
      "execution_count": null,
      "metadata": {
        "colab": {
          "base_uri": "https://localhost:8080/"
        },
        "id": "C9AOE-2_1pNc",
        "outputId": "2fcf64e6-faae-4e79-80c8-68d1678c914c"
      },
      "outputs": [
        {
          "output_type": "execute_result",
          "data": {
            "text/plain": [
              "9        3.893933\n",
              "18       2.826450\n",
              "21       2.799983\n",
              "30       5.462400\n",
              "36       6.282617\n",
              "           ...   \n",
              "11502    4.838217\n",
              "11503    2.248217\n",
              "11508    7.080000\n",
              "11509    2.979783\n",
              "11512    4.145833\n",
              "Name: duration_in min/ms, Length: 1658, dtype: float64"
            ]
          },
          "metadata": {},
          "execution_count": 41
        }
      ],
      "source": [
        "# Filter all the rows that have duration value less than \"30\"\n",
        "data4.loc[(data4['duration_in min/ms'] <  1000)]['duration_in min/ms']"
      ]
    },
    {
      "cell_type": "code",
      "execution_count": null,
      "metadata": {
        "id": "Tv75v5RD1pQF"
      },
      "outputs": [],
      "source": [
        "condition = data1['duration_in min/ms'] \n",
        "\n",
        "# If the value in duration_in_min/ms column is less than 30, then multiply the value with 60,000\n",
        "#data1.loc[condition,'duration_in min/ms'] = data1.loc[condition,'duration_in min/ms']*60000"
      ]
    },
    {
      "cell_type": "code",
      "execution_count": null,
      "metadata": {
        "id": "r19-xvRO-Fqh"
      },
      "outputs": [],
      "source": [
        "data1['duration_in min/ms']=data1['duration_in min/ms']/1000"
      ]
    },
    {
      "cell_type": "code",
      "execution_count": null,
      "metadata": {
        "colab": {
          "base_uri": "https://localhost:8080/"
        },
        "id": "WVrXhQ7Kx-dE",
        "outputId": "370207ee-9050-4e7c-b741-236d4892888a"
      },
      "outputs": [
        {
          "output_type": "execute_result",
          "data": {
            "text/plain": [
              "count    11516.000000\n",
              "mean       200.920519\n",
              "std        111.529496\n",
              "min          0.000534\n",
              "25%        167.000000\n",
              "50%        209.837000\n",
              "75%        252.939750\n",
              "max       1477.187000\n",
              "Name: duration_in min/ms, dtype: float64"
            ]
          },
          "metadata": {},
          "execution_count": 44
        }
      ],
      "source": [
        "data1[\"duration_in min/ms\"].describe()"
      ]
    },
    {
      "cell_type": "markdown",
      "metadata": {
        "id": "-SeULXROgjYs"
      },
      "source": [
        "## D- Feature Scaling"
      ]
    },
    {
      "cell_type": "markdown",
      "metadata": {
        "id": "sdelZ_L84TrM"
      },
      "source": [
        "handle with correlated features"
      ]
    },
    {
      "cell_type": "code",
      "execution_count": null,
      "metadata": {
        "id": "aM6-1REX4Sqp"
      },
      "outputs": [],
      "source": [
        "data1=data1.drop(['key'],axis=1)"
      ]
    },
    {
      "cell_type": "code",
      "execution_count": null,
      "metadata": {
        "id": "uoCpMgKXT1UG"
      },
      "outputs": [],
      "source": [
        "data1[\"loudness\"]=data1[\"loudness\"]*-1"
      ]
    },
    {
      "cell_type": "markdown",
      "metadata": {
        "id": "KllLAZvGg85B"
      },
      "source": [
        "## E- Standerazation"
      ]
    },
    {
      "cell_type": "code",
      "execution_count": null,
      "metadata": {
        "id": "qlZwa5ddhQ66"
      },
      "outputs": [],
      "source": [
        "Musice_features=data1.drop(\"Class\",axis=1)\n",
        "Musice_class=data1[\"Class\"]"
      ]
    },
    {
      "cell_type": "code",
      "execution_count": null,
      "metadata": {
        "colab": {
          "base_uri": "https://localhost:8080/"
        },
        "id": "sd4qyF8GhIuk",
        "outputId": "a2afb0f8-9623-4c24-ad1d-c6d11dc3013c"
      },
      "outputs": [
        {
          "output_type": "execute_result",
          "data": {
            "text/plain": [
              "array([[ 1.48508927, -0.69677226,  0.01581594, ..., -1.2675512 ,\n",
              "         0.13315873,  0.2056719 ],\n",
              "       [ 1.42680678, -0.19958859,  0.1430519 , ...,  1.84209063,\n",
              "         1.42401232,  0.2056719 ],\n",
              "       [ 1.54337176,  0.11189998, -1.18444335, ..., -0.97060224,\n",
              "         0.05236045, -2.59068887],\n",
              "       ...,\n",
              "       [ 0.2611569 , -0.41523452,  0.5586894 , ...,  0.60286715,\n",
              "        -0.30594598,  0.2056719 ],\n",
              "       [-0.14682056,  0.34551641,  0.61382498, ...,  0.26091049,\n",
              "         0.87119285,  0.2056719 ],\n",
              "       [ 0.20287441, -2.0505495 ,  1.3348288 , ...,  0.40265928,\n",
              "         0.68839022,  0.2056719 ]])"
            ]
          },
          "metadata": {},
          "execution_count": 48
        }
      ],
      "source": [
        "from sklearn.pipeline import Pipeline\n",
        "from sklearn.preprocessing import StandardScaler\n",
        "\n",
        "# CODE HERE\n",
        "num_pipeline = Pipeline([('std_scaler', StandardScaler())])\n",
        "\n",
        "Music_num_tr = num_pipeline.fit_transform(Musice_features)\n",
        "Music_num_tr"
      ]
    },
    {
      "cell_type": "code",
      "execution_count": null,
      "metadata": {
        "id": "QEozqyAzjKnX"
      },
      "outputs": [],
      "source": [
        "Music_prepared=Music_num_tr"
      ]
    },
    {
      "cell_type": "markdown",
      "metadata": {
        "id": "xzZGVBb4gpM5"
      },
      "source": [
        "# 4- Create a Test Set and Train Set"
      ]
    },
    {
      "cell_type": "code",
      "execution_count": null,
      "metadata": {
        "id": "aZxmNn5dgk24"
      },
      "outputs": [],
      "source": [
        "train_set=Music_num_tr\n",
        "test_set=pd.read_csv(\"test.csv\")"
      ]
    },
    {
      "cell_type": "code",
      "execution_count": null,
      "metadata": {
        "colab": {
          "base_uri": "https://localhost:8080/"
        },
        "id": "MGA7nKZhzCd3",
        "outputId": "6f32c7b7-d85d-4230-cc7c-6ea4256a0b4f"
      },
      "outputs": [
        {
          "output_type": "execute_result",
          "data": {
            "text/plain": [
              "(11516, 13)"
            ]
          },
          "metadata": {},
          "execution_count": 51
        }
      ],
      "source": [
        "Music_num_tr.shape"
      ]
    },
    {
      "cell_type": "markdown",
      "metadata": {
        "id": "ZrE5p_KqjkSJ"
      },
      "source": [
        "# 5- Select and Train a Model"
      ]
    },
    {
      "cell_type": "code",
      "execution_count": null,
      "metadata": {
        "colab": {
          "base_uri": "https://localhost:8080/"
        },
        "id": "zwbkbB5rjm6A",
        "outputId": "577cc182-4460-419e-f101-f4ef91ece315"
      },
      "outputs": [
        {
          "output_type": "execute_result",
          "data": {
            "text/plain": [
              "array([ 1.42680678, -0.19958859,  0.1430519 ,  0.726279  ,  0.74960996,\n",
              "        0.01519021, -0.74518904, -0.67769343,  0.63602474,  1.73807412,\n",
              "        1.84209063,  1.42401232,  0.2056719 ])"
            ]
          },
          "metadata": {},
          "execution_count": 52
        }
      ],
      "source": [
        "try1=Music_prepared[1]\n",
        "try1"
      ]
    },
    {
      "cell_type": "code",
      "execution_count": null,
      "metadata": {
        "colab": {
          "base_uri": "https://localhost:8080/"
        },
        "id": "c30N5SJ1zPu6",
        "outputId": "fcdc7e49-826d-497e-faec-146d0d0aec73"
      },
      "outputs": [
        {
          "output_type": "execute_result",
          "data": {
            "text/plain": [
              "(11516, 13)"
            ]
          },
          "metadata": {},
          "execution_count": 53
        }
      ],
      "source": [
        "Music_prepared.shape"
      ]
    },
    {
      "cell_type": "code",
      "execution_count": null,
      "metadata": {
        "colab": {
          "base_uri": "https://localhost:8080/",
          "height": 193
        },
        "id": "Q_J4xqPrUv7s",
        "outputId": "4be43be6-fd50-4b64-82b7-5f687a4ae1c1"
      },
      "outputs": [
        {
          "output_type": "execute_result",
          "data": {
            "text/plain": [
              "   Popularity  danceability  energy  loudness  mode  speechiness  \\\n",
              "0        70.0         0.427   0.666     7.902     0       0.0415   \n",
              "1        69.0         0.510   0.696    10.830     1       0.0802   \n",
              "\n",
              "   acousticness  instrumentalness  liveness  valence    tempo  \\\n",
              "0        0.1760          0.229000    0.0856    0.232   85.022   \n",
              "1        0.0157          0.000104    0.2970    0.905  176.568   \n",
              "\n",
              "   duration_in min/ms  time_signature  Class  \n",
              "0             215.771               4      9  \n",
              "1             359.733               4     10  "
            ],
            "text/html": [
              "\n",
              "  <div id=\"df-a6c672f9-39d2-4e45-a730-6f2012266a84\">\n",
              "    <div class=\"colab-df-container\">\n",
              "      <div>\n",
              "<style scoped>\n",
              "    .dataframe tbody tr th:only-of-type {\n",
              "        vertical-align: middle;\n",
              "    }\n",
              "\n",
              "    .dataframe tbody tr th {\n",
              "        vertical-align: top;\n",
              "    }\n",
              "\n",
              "    .dataframe thead th {\n",
              "        text-align: right;\n",
              "    }\n",
              "</style>\n",
              "<table border=\"1\" class=\"dataframe\">\n",
              "  <thead>\n",
              "    <tr style=\"text-align: right;\">\n",
              "      <th></th>\n",
              "      <th>Popularity</th>\n",
              "      <th>danceability</th>\n",
              "      <th>energy</th>\n",
              "      <th>loudness</th>\n",
              "      <th>mode</th>\n",
              "      <th>speechiness</th>\n",
              "      <th>acousticness</th>\n",
              "      <th>instrumentalness</th>\n",
              "      <th>liveness</th>\n",
              "      <th>valence</th>\n",
              "      <th>tempo</th>\n",
              "      <th>duration_in min/ms</th>\n",
              "      <th>time_signature</th>\n",
              "      <th>Class</th>\n",
              "    </tr>\n",
              "  </thead>\n",
              "  <tbody>\n",
              "    <tr>\n",
              "      <th>0</th>\n",
              "      <td>70.0</td>\n",
              "      <td>0.427</td>\n",
              "      <td>0.666</td>\n",
              "      <td>7.902</td>\n",
              "      <td>0</td>\n",
              "      <td>0.0415</td>\n",
              "      <td>0.1760</td>\n",
              "      <td>0.229000</td>\n",
              "      <td>0.0856</td>\n",
              "      <td>0.232</td>\n",
              "      <td>85.022</td>\n",
              "      <td>215.771</td>\n",
              "      <td>4</td>\n",
              "      <td>9</td>\n",
              "    </tr>\n",
              "    <tr>\n",
              "      <th>1</th>\n",
              "      <td>69.0</td>\n",
              "      <td>0.510</td>\n",
              "      <td>0.696</td>\n",
              "      <td>10.830</td>\n",
              "      <td>1</td>\n",
              "      <td>0.0802</td>\n",
              "      <td>0.0157</td>\n",
              "      <td>0.000104</td>\n",
              "      <td>0.2970</td>\n",
              "      <td>0.905</td>\n",
              "      <td>176.568</td>\n",
              "      <td>359.733</td>\n",
              "      <td>4</td>\n",
              "      <td>10</td>\n",
              "    </tr>\n",
              "  </tbody>\n",
              "</table>\n",
              "</div>\n",
              "      <button class=\"colab-df-convert\" onclick=\"convertToInteractive('df-a6c672f9-39d2-4e45-a730-6f2012266a84')\"\n",
              "              title=\"Convert this dataframe to an interactive table.\"\n",
              "              style=\"display:none;\">\n",
              "        \n",
              "  <svg xmlns=\"http://www.w3.org/2000/svg\" height=\"24px\"viewBox=\"0 0 24 24\"\n",
              "       width=\"24px\">\n",
              "    <path d=\"M0 0h24v24H0V0z\" fill=\"none\"/>\n",
              "    <path d=\"M18.56 5.44l.94 2.06.94-2.06 2.06-.94-2.06-.94-.94-2.06-.94 2.06-2.06.94zm-11 1L8.5 8.5l.94-2.06 2.06-.94-2.06-.94L8.5 2.5l-.94 2.06-2.06.94zm10 10l.94 2.06.94-2.06 2.06-.94-2.06-.94-.94-2.06-.94 2.06-2.06.94z\"/><path d=\"M17.41 7.96l-1.37-1.37c-.4-.4-.92-.59-1.43-.59-.52 0-1.04.2-1.43.59L10.3 9.45l-7.72 7.72c-.78.78-.78 2.05 0 2.83L4 21.41c.39.39.9.59 1.41.59.51 0 1.02-.2 1.41-.59l7.78-7.78 2.81-2.81c.8-.78.8-2.07 0-2.86zM5.41 20L4 18.59l7.72-7.72 1.47 1.35L5.41 20z\"/>\n",
              "  </svg>\n",
              "      </button>\n",
              "      \n",
              "  <style>\n",
              "    .colab-df-container {\n",
              "      display:flex;\n",
              "      flex-wrap:wrap;\n",
              "      gap: 12px;\n",
              "    }\n",
              "\n",
              "    .colab-df-convert {\n",
              "      background-color: #E8F0FE;\n",
              "      border: none;\n",
              "      border-radius: 50%;\n",
              "      cursor: pointer;\n",
              "      display: none;\n",
              "      fill: #1967D2;\n",
              "      height: 32px;\n",
              "      padding: 0 0 0 0;\n",
              "      width: 32px;\n",
              "    }\n",
              "\n",
              "    .colab-df-convert:hover {\n",
              "      background-color: #E2EBFA;\n",
              "      box-shadow: 0px 1px 2px rgba(60, 64, 67, 0.3), 0px 1px 3px 1px rgba(60, 64, 67, 0.15);\n",
              "      fill: #174EA6;\n",
              "    }\n",
              "\n",
              "    [theme=dark] .colab-df-convert {\n",
              "      background-color: #3B4455;\n",
              "      fill: #D2E3FC;\n",
              "    }\n",
              "\n",
              "    [theme=dark] .colab-df-convert:hover {\n",
              "      background-color: #434B5C;\n",
              "      box-shadow: 0px 1px 3px 1px rgba(0, 0, 0, 0.15);\n",
              "      filter: drop-shadow(0px 1px 2px rgba(0, 0, 0, 0.3));\n",
              "      fill: #FFFFFF;\n",
              "    }\n",
              "  </style>\n",
              "\n",
              "      <script>\n",
              "        const buttonEl =\n",
              "          document.querySelector('#df-a6c672f9-39d2-4e45-a730-6f2012266a84 button.colab-df-convert');\n",
              "        buttonEl.style.display =\n",
              "          google.colab.kernel.accessAllowed ? 'block' : 'none';\n",
              "\n",
              "        async function convertToInteractive(key) {\n",
              "          const element = document.querySelector('#df-a6c672f9-39d2-4e45-a730-6f2012266a84');\n",
              "          const dataTable =\n",
              "            await google.colab.kernel.invokeFunction('convertToInteractive',\n",
              "                                                     [key], {});\n",
              "          if (!dataTable) return;\n",
              "\n",
              "          const docLinkHtml = 'Like what you see? Visit the ' +\n",
              "            '<a target=\"_blank\" href=https://colab.research.google.com/notebooks/data_table.ipynb>data table notebook</a>'\n",
              "            + ' to learn more about interactive tables.';\n",
              "          element.innerHTML = '';\n",
              "          dataTable['output_type'] = 'display_data';\n",
              "          await google.colab.output.renderOutput(dataTable, element);\n",
              "          const docLink = document.createElement('div');\n",
              "          docLink.innerHTML = docLinkHtml;\n",
              "          element.appendChild(docLink);\n",
              "        }\n",
              "      </script>\n",
              "    </div>\n",
              "  </div>\n",
              "  "
            ]
          },
          "metadata": {},
          "execution_count": 54
        }
      ],
      "source": [
        "data1.head(2)"
      ]
    },
    {
      "cell_type": "markdown",
      "metadata": {
        "id": "FenoToMTosiO"
      },
      "source": [
        "1-SVM"
      ]
    },
    {
      "cell_type": "code",
      "execution_count": null,
      "metadata": {
        "colab": {
          "base_uri": "https://localhost:8080/"
        },
        "id": "9YXhFLZnj898",
        "outputId": "cb61f55b-8ea6-4ebd-e733-7f0ae9fa1b42"
      },
      "outputs": [
        {
          "output_type": "execute_result",
          "data": {
            "text/plain": [
              "array([10])"
            ]
          },
          "metadata": {},
          "execution_count": 55
        }
      ],
      "source": [
        "from sklearn.svm import SVC\n",
        "svm_clf = SVC(probability=True)\n",
        "svm_clf.fit(Music_prepared, Musice_class) \n",
        "svm_clf.predict([try1])"
      ]
    },
    {
      "cell_type": "code",
      "execution_count": null,
      "metadata": {
        "colab": {
          "base_uri": "https://localhost:8080/"
        },
        "id": "Mf_GDe-VkY25",
        "outputId": "f617a2f7-5258-4d9a-820c-93328c1a1310"
      },
      "outputs": [
        {
          "output_type": "execute_result",
          "data": {
            "text/plain": [
              "10"
            ]
          },
          "metadata": {},
          "execution_count": 56
        }
      ],
      "source": [
        "Musice_class[1]"
      ]
    },
    {
      "cell_type": "markdown",
      "metadata": {
        "id": "2wAQbGAMDKrF"
      },
      "source": [
        "Validation"
      ]
    },
    {
      "cell_type": "code",
      "execution_count": null,
      "metadata": {
        "colab": {
          "base_uri": "https://localhost:8080/"
        },
        "id": "L1Bg4du4ka9V",
        "outputId": "1756b120-1ee0-4696-8657-8dee3764c38f"
      },
      "outputs": [
        {
          "output_type": "execute_result",
          "data": {
            "text/plain": [
              "array([0.54769631, 0.56240684, 0.53109956, 0.54666471, 0.54360515,\n",
              "       0.51560121, 0.5298638 , 0.52872701, 0.52965765, 0.54126558])"
            ]
          },
          "metadata": {},
          "execution_count": 57
        }
      ],
      "source": [
        "from sklearn.model_selection import cross_val_score\n",
        "\n",
        "\n",
        "cross_val_score(svm_clf, Music_prepared, Musice_class, cv=10, scoring=\"f1_macro\")"
      ]
    },
    {
      "cell_type": "code",
      "execution_count": null,
      "metadata": {
        "colab": {
          "base_uri": "https://localhost:8080/"
        },
        "id": "A1YJ0541lra4",
        "outputId": "95347d59-0725-4bc8-e1b8-35aa1f115ca3"
      },
      "outputs": [
        {
          "output_type": "execute_result",
          "data": {
            "text/plain": [
              "array([[ 306,    0,    2,   25,   29,    1,    0,    9,    0,   19,    9],\n",
              "       [   0,    5,   22,    0,    0,   38,  138,    2,   24,   90,  559],\n",
              "       [   1,    0,  253,    0,    0,   17,   59,    0,    9,   95,  380],\n",
              "       [  53,    0,    1,  168,   16,    1,    0,   10,    0,    6,    3],\n",
              "       [  58,    0,    0,    4,  150,    0,    0,    0,    0,   22,   14],\n",
              "       [   1,    0,   14,    0,    0,  636,   30,    0,    5,  143,   97],\n",
              "       [   0,    6,   49,    0,    0,   95,  340,    1,   51,  219,  894],\n",
              "       [  31,    0,    0,    4,    4,    0,    1,  328,    0,    0,    1],\n",
              "       [   0,    0,    1,    0,    0,    2,   31,    0,  501,   10,  641],\n",
              "       [  42,    0,   52,    4,   28,  141,   69,    0,    3,  854,  422],\n",
              "       [  15,    0,   94,    4,   54,   35,  130,    1,  205,  241, 2388]])"
            ]
          },
          "metadata": {},
          "execution_count": 58
        }
      ],
      "source": [
        "from sklearn.model_selection import cross_val_predict\n",
        "from sklearn.metrics import confusion_matrix\n",
        "\n",
        "\n",
        "y_train_pred_1 = cross_val_predict(svm_clf, Music_prepared, Musice_class, cv=3)\n",
        "conf_mx = confusion_matrix(Musice_class, y_train_pred_1)\n",
        "conf_mx"
      ]
    },
    {
      "cell_type": "code",
      "execution_count": null,
      "metadata": {
        "colab": {
          "base_uri": "https://localhost:8080/"
        },
        "id": "Wt_X-e86zceU",
        "outputId": "e987ee0a-d6bd-494d-b4d8-87813867f0a8"
      },
      "outputs": [
        {
          "output_type": "execute_result",
          "data": {
            "text/plain": [
              "(11, 11)"
            ]
          },
          "metadata": {},
          "execution_count": 59
        }
      ],
      "source": [
        "conf_mx.shape"
      ]
    },
    {
      "cell_type": "code",
      "execution_count": null,
      "metadata": {
        "colab": {
          "base_uri": "https://localhost:8080/"
        },
        "id": "nVU7GkAbpySK",
        "outputId": "44bf8623-94d2-40bf-d93e-81595fba6fe3"
      },
      "outputs": [
        {
          "output_type": "stream",
          "name": "stdout",
          "text": [
            "              precision    recall  f1-score   support\n",
            "\n",
            "           0       0.60      0.77      0.67       400\n",
            "           1       0.45      0.01      0.01       878\n",
            "           2       0.52      0.31      0.39       814\n",
            "           3       0.80      0.65      0.72       258\n",
            "           4       0.53      0.60      0.57       248\n",
            "           5       0.66      0.69      0.67       926\n",
            "           6       0.43      0.21      0.28      1655\n",
            "           7       0.93      0.89      0.91       369\n",
            "           8       0.63      0.42      0.51      1186\n",
            "           9       0.50      0.53      0.52      1615\n",
            "          10       0.44      0.75      0.56      3167\n",
            "\n",
            "    accuracy                           0.51     11516\n",
            "   macro avg       0.59      0.53      0.53     11516\n",
            "weighted avg       0.52      0.51      0.48     11516\n",
            "\n"
          ]
        }
      ],
      "source": [
        "from sklearn.metrics import classification_report\n",
        "print(classification_report(Musice_class, y_train_pred_1))"
      ]
    },
    {
      "cell_type": "code",
      "execution_count": null,
      "metadata": {
        "colab": {
          "base_uri": "https://localhost:8080/",
          "height": 275
        },
        "id": "bAMsxo_3k_6f",
        "outputId": "f92c2438-8128-4521-bc6b-83de50967d04"
      },
      "outputs": [
        {
          "output_type": "display_data",
          "data": {
            "text/plain": [
              "<Figure size 288x288 with 1 Axes>"
            ],
            "image/png": "[encoded data removed]"
          },
          "metadata": {
            "needs_background": "light"
          }
        }
      ],
      "source": [
        "# CODE HERE\n",
        "plt.matshow(conf_mx, cmap=plt.cm.gray)\n",
        "plt.show()"
      ]
    },
    {
      "cell_type": "code",
      "execution_count": null,
      "metadata": {
        "id": "YmT3K2J3mprw"
      },
      "outputs": [],
      "source": [
        "row_sums = conf_mx.sum(axis=1, keepdims=True)\n",
        "norm_conf_mx = conf_mx / row_sums"
      ]
    },
    {
      "cell_type": "code",
      "execution_count": null,
      "metadata": {
        "colab": {
          "base_uri": "https://localhost:8080/",
          "height": 275
        },
        "id": "qt4vwINymt8H",
        "outputId": "ab8dba5f-c722-48d5-dad8-4e1200455c58"
      },
      "outputs": [
        {
          "output_type": "display_data",
          "data": {
            "text/plain": [
              "<Figure size 288x288 with 1 Axes>"
            ],
            "image/png": "[encoded data removed]"
          },
          "metadata": {
            "needs_background": "light"
          }
        }
      ],
      "source": [
        "# CODE HERE\n",
        "np.fill_diagonal(norm_conf_mx, 0)\n",
        "plt.matshow(norm_conf_mx, cmap=plt.cm.gray)\n",
        "plt.show()"
      ]
    },
    {
      "cell_type": "markdown",
      "metadata": {
        "id": "Nn_4J08yo6Yd"
      },
      "source": [
        "2-Random Forest"
      ]
    },
    {
      "cell_type": "code",
      "execution_count": null,
      "metadata": {
        "id": "PHhbr7lXo-4C"
      },
      "outputs": [],
      "source": [
        "from sklearn.ensemble import RandomForestClassifier\n",
        "forest_clf = RandomForestClassifier(random_state=42)\n"
      ]
    },
    {
      "cell_type": "code",
      "execution_count": null,
      "metadata": {
        "colab": {
          "base_uri": "https://localhost:8080/"
        },
        "id": "TZ4j5M8IpDII",
        "outputId": "51ae7951-b5cc-4d30-eef7-f8b192be7c3f"
      },
      "outputs": [
        {
          "output_type": "execute_result",
          "data": {
            "text/plain": [
              "array([10])"
            ]
          },
          "metadata": {},
          "execution_count": 65
        }
      ],
      "source": [
        "forest_clf.fit(Music_prepared, Musice_class)\n",
        "forest_clf.predict([try1])"
      ]
    },
    {
      "cell_type": "code",
      "execution_count": null,
      "metadata": {
        "colab": {
          "base_uri": "https://localhost:8080/"
        },
        "id": "4XRd-8qTubj_",
        "outputId": "34f10967-19a5-4ca2-9072-6363dfdd7711"
      },
      "outputs": [
        {
          "output_type": "execute_result",
          "data": {
            "text/plain": [
              "10"
            ]
          },
          "metadata": {},
          "execution_count": 66
        }
      ],
      "source": [
        "Musice_class[1]"
      ]
    },
    {
      "cell_type": "markdown",
      "metadata": {
        "id": "apuj0IMIqkaJ"
      },
      "source": [
        "validation"
      ]
    },
    {
      "cell_type": "code",
      "execution_count": null,
      "metadata": {
        "colab": {
          "base_uri": "https://localhost:8080/"
        },
        "id": "qq-sDNdZpVpG",
        "outputId": "790b0aad-3f91-40f4-db64-1ee7da1c6d50"
      },
      "outputs": [
        {
          "output_type": "execute_result",
          "data": {
            "text/plain": [
              "array([0.56326992, 0.54067881, 0.54348175])"
            ]
          },
          "metadata": {},
          "execution_count": 67
        }
      ],
      "source": [
        "from sklearn.model_selection import cross_val_score\n",
        "cross_val_score(forest_clf, Music_prepared, Musice_class, cv=3, scoring=\"f1_macro\")"
      ]
    },
    {
      "cell_type": "code",
      "execution_count": null,
      "metadata": {
        "colab": {
          "base_uri": "https://localhost:8080/"
        },
        "id": "RLhU9l4jthh-",
        "outputId": "f324e988-72b6-4049-fed4-588aa261b428"
      },
      "outputs": [
        {
          "output_type": "execute_result",
          "data": {
            "text/plain": [
              "array([[ 312,    0,    0,   20,   27,    0,    0,   13,    0,   26,    2],\n",
              "       [   0,   20,   30,    0,    0,   35,  301,    0,   31,   63,  398],\n",
              "       [   0,    6,  272,    0,    0,   13,   90,    0,    8,   89,  336],\n",
              "       [  49,    0,    0,  182,    6,    0,    0,   10,    0,    9,    2],\n",
              "       [  57,    0,    0,    3,  148,    0,    0,    0,    0,   27,   13],\n",
              "       [   0,    5,   15,    0,    0,  643,   43,    0,    1,  142,   77],\n",
              "       [   0,  170,   56,    0,    0,   82,  405,    0,   44,  182,  716],\n",
              "       [  19,    0,    0,   11,    0,    0,    0,  338,    0,    0,    1],\n",
              "       [   0,    2,    4,    0,    0,    0,   37,    0,  601,    7,  535],\n",
              "       [  34,   10,   42,    4,   12,  153,  119,    0,    4,  874,  363],\n",
              "       [  15,   93,   95,   10,   34,   41,  249,    1,  285,  228, 2116]])"
            ]
          },
          "metadata": {},
          "execution_count": 68
        }
      ],
      "source": [
        "from sklearn.model_selection import cross_val_predict\n",
        "from sklearn.metrics import confusion_matrix\n",
        "\n",
        "\n",
        "y_train_pred_2 = cross_val_predict(forest_clf, Music_prepared, Musice_class, cv=3)\n",
        "conf_mx = confusion_matrix(Musice_class, y_train_pred_2)\n",
        "conf_mx"
      ]
    },
    {
      "cell_type": "code",
      "execution_count": null,
      "metadata": {
        "colab": {
          "base_uri": "https://localhost:8080/"
        },
        "id": "Fah9tpd7qq9K",
        "outputId": "ef79786f-ef41-48b2-c49e-f6eebb7803c1"
      },
      "outputs": [
        {
          "output_type": "stream",
          "name": "stdout",
          "text": [
            "              precision    recall  f1-score   support\n",
            "\n",
            "           0       0.64      0.78      0.70       400\n",
            "           1       0.07      0.02      0.03       878\n",
            "           2       0.53      0.33      0.41       814\n",
            "           3       0.79      0.71      0.75       258\n",
            "           4       0.65      0.60      0.62       248\n",
            "           5       0.66      0.69      0.68       926\n",
            "           6       0.33      0.24      0.28      1655\n",
            "           7       0.93      0.92      0.92       369\n",
            "           8       0.62      0.51      0.56      1186\n",
            "           9       0.53      0.54      0.54      1615\n",
            "          10       0.46      0.67      0.55      3167\n",
            "\n",
            "    accuracy                           0.51     11516\n",
            "   macro avg       0.57      0.55      0.55     11516\n",
            "weighted avg       0.49      0.51      0.49     11516\n",
            "\n"
          ]
        }
      ],
      "source": [
        "from sklearn.metrics import classification_report\n",
        "print(classification_report(Musice_class, y_train_pred_2))"
      ]
    },
    {
      "cell_type": "markdown",
      "metadata": {
        "id": "DR5FOXcxr_fy"
      },
      "source": [
        "3-KNN"
      ]
    },
    {
      "cell_type": "code",
      "execution_count": null,
      "metadata": {
        "colab": {
          "base_uri": "https://localhost:8080/"
        },
        "id": "c0sw3dcWsAk5",
        "outputId": "e9d2ddca-9dc9-489c-fce2-5a7501eed5a7"
      },
      "outputs": [
        {
          "output_type": "execute_result",
          "data": {
            "text/plain": [
              "KNeighborsClassifier(n_neighbors=11)"
            ]
          },
          "metadata": {},
          "execution_count": 70
        }
      ],
      "source": [
        "from sklearn.neighbors import KNeighborsClassifier\n",
        "neigh = KNeighborsClassifier(n_neighbors=11)\n",
        "neigh.fit(Music_prepared, Musice_class)"
      ]
    },
    {
      "cell_type": "code",
      "execution_count": null,
      "metadata": {
        "colab": {
          "base_uri": "https://localhost:8080/"
        },
        "id": "ASwRR_TqtPgI",
        "outputId": "681df2c2-18d5-4409-ea0e-0d9ed5fbcc4b"
      },
      "outputs": [
        {
          "output_type": "execute_result",
          "data": {
            "text/plain": [
              "array([10])"
            ]
          },
          "metadata": {},
          "execution_count": 71
        }
      ],
      "source": [
        "neigh.predict([try1])"
      ]
    },
    {
      "cell_type": "code",
      "execution_count": null,
      "metadata": {
        "colab": {
          "base_uri": "https://localhost:8080/"
        },
        "id": "97Ww_hUltV9j",
        "outputId": "18f4382c-7fe8-4a45-c095-a3d52861998e"
      },
      "outputs": [
        {
          "output_type": "execute_result",
          "data": {
            "text/plain": [
              "array([0.51634001, 0.54679849, 0.49472219, 0.50780906, 0.51209947,\n",
              "       0.51596974, 0.49848964, 0.4940242 , 0.51801941, 0.50601521])"
            ]
          },
          "metadata": {},
          "execution_count": 72
        }
      ],
      "source": [
        "from sklearn.model_selection import cross_val_score\n",
        "cross_val_score(neigh, Music_prepared, Musice_class, cv=10, scoring=\"f1_macro\")"
      ]
    },
    {
      "cell_type": "code",
      "execution_count": null,
      "metadata": {
        "colab": {
          "base_uri": "https://localhost:8080/"
        },
        "id": "ZQdMzYnLtZ0p",
        "outputId": "1c2f02a2-66df-4027-d7c1-8251bfc7e0b5"
      },
      "outputs": [
        {
          "output_type": "execute_result",
          "data": {
            "text/plain": [
              "array([[ 288,    0,    7,   22,   35,    0,    4,   11,    2,   23,    8],\n",
              "       [   0,   69,   33,    0,    0,   37,  176,   18,   53,   85,  407],\n",
              "       [   7,   39,  270,    2,    0,   15,   94,    2,   27,  101,  257],\n",
              "       [  55,    0,    3,  153,   13,    5,    2,   12,    0,   10,    5],\n",
              "       [  57,    1,    0,    8,  147,    0,    0,    0,    0,   17,   18],\n",
              "       [   1,   15,   21,    0,    0,  609,   61,    2,   14,  118,   85],\n",
              "       [   4,  122,   93,    1,    1,   84,  384,   20,  109,  186,  651],\n",
              "       [  32,    0,    0,    2,    4,    0,    4,  326,    0,    0,    1],\n",
              "       [   0,   15,   14,    0,    0,    2,   69,    1,  542,   13,  530],\n",
              "       [  42,   54,   83,    6,   32,  157,  148,    0,   20,  726,  347],\n",
              "       [  25,  121,  159,    9,   46,   45,  349,    1,  365,  270, 1777]])"
            ]
          },
          "metadata": {},
          "execution_count": 73
        }
      ],
      "source": [
        "from sklearn.model_selection import cross_val_predict\n",
        "from sklearn.metrics import confusion_matrix\n",
        "\n",
        "\n",
        "y_train_pred_3 = cross_val_predict(neigh, Music_prepared, Musice_class, cv=3)\n",
        "conf_mx = confusion_matrix(Musice_class, y_train_pred_3)\n",
        "conf_mx"
      ]
    },
    {
      "cell_type": "code",
      "execution_count": null,
      "metadata": {
        "colab": {
          "base_uri": "https://localhost:8080/"
        },
        "id": "d0cM6fZet1MO",
        "outputId": "b6eb7c25-bd70-4d94-ccd7-4fed1d054134"
      },
      "outputs": [
        {
          "output_type": "stream",
          "name": "stdout",
          "text": [
            "              precision    recall  f1-score   support\n",
            "\n",
            "           0       0.56      0.72      0.63       400\n",
            "           1       0.16      0.08      0.11       878\n",
            "           2       0.40      0.33      0.36       814\n",
            "           3       0.75      0.59      0.66       258\n",
            "           4       0.53      0.59      0.56       248\n",
            "           5       0.64      0.66      0.65       926\n",
            "           6       0.30      0.23      0.26      1655\n",
            "           7       0.83      0.88      0.86       369\n",
            "           8       0.48      0.46      0.47      1186\n",
            "           9       0.47      0.45      0.46      1615\n",
            "          10       0.43      0.56      0.49      3167\n",
            "\n",
            "    accuracy                           0.46     11516\n",
            "   macro avg       0.50      0.51      0.50     11516\n",
            "weighted avg       0.44      0.46      0.45     11516\n",
            "\n"
          ]
        }
      ],
      "source": [
        "from sklearn.metrics import classification_report\n",
        "print(classification_report(Musice_class, y_train_pred_3))"
      ]
    },
    {
      "cell_type": "markdown",
      "metadata": {
        "id": "-u793A0RvRVg"
      },
      "source": [
        "4-Gradient Boosting"
      ]
    },
    {
      "cell_type": "code",
      "execution_count": null,
      "metadata": {
        "colab": {
          "base_uri": "https://localhost:8080/"
        },
        "id": "4KsKnbEcuJH2",
        "outputId": "ae050281-2885-42a4-8887-1e2f2776c441"
      },
      "outputs": [
        {
          "output_type": "execute_result",
          "data": {
            "text/plain": [
              "0.6336401528308441"
            ]
          },
          "metadata": {},
          "execution_count": 75
        }
      ],
      "source": [
        "from sklearn.ensemble import GradientBoostingClassifier\n",
        "\n",
        "GB_clf = GradientBoostingClassifier()\n",
        "GB_clf.fit(Music_prepared, Musice_class,)\n",
        "GB_clf.score(Music_prepared, Musice_class)"
      ]
    },
    {
      "cell_type": "code",
      "execution_count": null,
      "metadata": {
        "colab": {
          "base_uri": "https://localhost:8080/"
        },
        "id": "rIsPP85HyLqT",
        "outputId": "d356af20-4f48-4aeb-8b0d-40d4a3203edf"
      },
      "outputs": [
        {
          "output_type": "execute_result",
          "data": {
            "text/plain": [
              "array([[ 291,    0,    0,   36,   35,    0,    0,   16,    0,   20,    2],\n",
              "       [   0,   14,   41,    0,    0,   39,  204,    0,   46,   78,  456],\n",
              "       [   0,    5,  308,    0,    0,   16,   81,    0,   10,   92,  302],\n",
              "       [  55,    0,    0,  178,    8,    2,    0,   10,    0,    4,    1],\n",
              "       [  54,    0,    0,    4,  160,    0,    0,    2,    0,   20,    8],\n",
              "       [   0,    4,   22,    0,    0,  644,   47,    0,    1,  143,   65],\n",
              "       [   0,   48,   64,    0,    0,   80,  471,    0,   66,  163,  763],\n",
              "       [  19,    0,    0,   15,    1,    0,    0,  334,    0,    0,    0],\n",
              "       [   0,    1,    5,    0,    0,    2,   37,    0,  618,    8,  515],\n",
              "       [  32,    3,   49,    6,   17,  143,  112,    0,    6,  901,  346],\n",
              "       [  21,   22,  142,   12,   31,   43,  224,    0,  294,  249, 2129]])"
            ]
          },
          "metadata": {},
          "execution_count": 76
        }
      ],
      "source": [
        "from sklearn.model_selection import cross_val_predict\n",
        "from sklearn.metrics import confusion_matrix\n",
        "\n",
        "\n",
        "y_train_pred_4 = cross_val_predict(GB_clf, Music_prepared, Musice_class, cv=3)\n",
        "conf_mx = confusion_matrix(Musice_class, y_train_pred_4)\n",
        "conf_mx"
      ]
    },
    {
      "cell_type": "code",
      "execution_count": null,
      "metadata": {
        "colab": {
          "base_uri": "https://localhost:8080/"
        },
        "id": "ske543ljyO-u",
        "outputId": "279ba5b4-8cdf-465c-b139-6a520f8be745"
      },
      "outputs": [
        {
          "output_type": "stream",
          "name": "stdout",
          "text": [
            "              precision    recall  f1-score   support\n",
            "\n",
            "           0       0.62      0.73      0.67       400\n",
            "           1       0.14      0.02      0.03       878\n",
            "           2       0.49      0.38      0.43       814\n",
            "           3       0.71      0.69      0.70       258\n",
            "           4       0.63      0.65      0.64       248\n",
            "           5       0.66      0.70      0.68       926\n",
            "           6       0.40      0.28      0.33      1655\n",
            "           7       0.92      0.91      0.91       369\n",
            "           8       0.59      0.52      0.56      1186\n",
            "           9       0.54      0.56      0.55      1615\n",
            "          10       0.46      0.67      0.55      3167\n",
            "\n",
            "    accuracy                           0.53     11516\n",
            "   macro avg       0.56      0.55      0.55     11516\n",
            "weighted avg       0.50      0.53      0.50     11516\n",
            "\n"
          ]
        }
      ],
      "source": [
        "from sklearn.metrics import classification_report\n",
        "print(classification_report(Musice_class, y_train_pred_4))"
      ]
    },
    {
      "cell_type": "code",
      "execution_count": null,
      "metadata": {
        "colab": {
          "base_uri": "https://localhost:8080/"
        },
        "id": "Z82nOeowvuue",
        "outputId": "cf47eb62-14ee-4420-efcd-040f6b6f677b"
      },
      "outputs": [
        {
          "output_type": "execute_result",
          "data": {
            "text/plain": [
              "array([10])"
            ]
          },
          "metadata": {},
          "execution_count": 78
        }
      ],
      "source": [
        "GB_clf.predict([try1])"
      ]
    },
    {
      "cell_type": "markdown",
      "metadata": {
        "id": "cLuHPT4-XgYj"
      },
      "source": [
        "5-XGBooster:"
      ]
    },
    {
      "cell_type": "code",
      "execution_count": null,
      "metadata": {
        "id": "fVa6Rsph2yq2"
      },
      "outputs": [],
      "source": [
        "from xgboost import XGBClassifier"
      ]
    },
    {
      "cell_type": "code",
      "execution_count": null,
      "metadata": {
        "id": "Dwmncf_zaVos"
      },
      "outputs": [],
      "source": [
        "XGB_clr=XGBClassifier()\n",
        "scores = cross_val_score(XGB_clr, Music_prepared, Musice_class, scoring='f1_macro')"
      ]
    },
    {
      "cell_type": "code",
      "execution_count": null,
      "metadata": {
        "colab": {
          "base_uri": "https://localhost:8080/"
        },
        "id": "ZrOREq_kaEau",
        "outputId": "ffb8586d-9633-449a-9eb5-e0e7314f32a2"
      },
      "outputs": [
        {
          "output_type": "execute_result",
          "data": {
            "text/plain": [
              "array([0.56120649, 0.5514389 , 0.541128  , 0.54886477, 0.54230275])"
            ]
          },
          "metadata": {},
          "execution_count": 81
        }
      ],
      "source": [
        "scores"
      ]
    },
    {
      "cell_type": "code",
      "execution_count": null,
      "metadata": {
        "colab": {
          "base_uri": "https://localhost:8080/"
        },
        "id": "80nD5ua2aB0c",
        "outputId": "d343be61-dd39-45e6-9b9f-6a975dd1170a"
      },
      "outputs": [
        {
          "output_type": "execute_result",
          "data": {
            "text/plain": [
              "array([[ 290,    0,    0,   31,   41,    0,    0,   18,    0,   17,    3],\n",
              "       [   0,    5,   39,    0,    0,   43,  183,    0,   50,   73,  485],\n",
              "       [   0,    1,  288,    0,    0,   23,   77,    0,    8,   88,  329],\n",
              "       [  48,    0,    0,  184,    9,    0,    0,   13,    0,    4,    0],\n",
              "       [  56,    0,    0,    3,  163,    0,    0,    0,    0,   15,   11],\n",
              "       [   0,    1,   15,    0,    0,  677,   29,    0,    1,  127,   76],\n",
              "       [   0,    6,   64,    0,    0,   96,  455,    0,   69,  162,  803],\n",
              "       [  19,    0,    0,   11,    0,    0,    0,  339,    0,    0,    0],\n",
              "       [   0,    0,    2,    0,    0,    0,   38,    0,  638,    8,  500],\n",
              "       [  38,    2,   46,    9,   26,  166,   92,    0,    7,  861,  368],\n",
              "       [  19,    0,  142,   12,   37,   49,  170,    0,  282,  243, 2213]])"
            ]
          },
          "metadata": {},
          "execution_count": 82
        }
      ],
      "source": [
        "y_train_pred_23 = cross_val_predict(XGB_clr, Music_prepared, Musice_class, cv=3)\n",
        "conf_mx = confusion_matrix(Musice_class, y_train_pred_23)\n",
        "conf_mx"
      ]
    },
    {
      "cell_type": "code",
      "execution_count": null,
      "metadata": {
        "colab": {
          "base_uri": "https://localhost:8080/"
        },
        "id": "qkkJS3-OaLxI",
        "outputId": "8f610b01-31e9-4ce9-cdbe-cbe770d791ab"
      },
      "outputs": [
        {
          "output_type": "stream",
          "name": "stdout",
          "text": [
            "              precision    recall  f1-score   support\n",
            "\n",
            "           0       0.62      0.72      0.67       400\n",
            "           1       0.33      0.01      0.01       878\n",
            "           2       0.48      0.35      0.41       814\n",
            "           3       0.74      0.71      0.72       258\n",
            "           4       0.59      0.66      0.62       248\n",
            "           5       0.64      0.73      0.68       926\n",
            "           6       0.44      0.27      0.34      1655\n",
            "           7       0.92      0.92      0.92       369\n",
            "           8       0.60      0.54      0.57      1186\n",
            "           9       0.54      0.53      0.54      1615\n",
            "          10       0.46      0.70      0.56      3167\n",
            "\n",
            "    accuracy                           0.53     11516\n",
            "   macro avg       0.58      0.56      0.55     11516\n",
            "weighted avg       0.52      0.53      0.50     11516\n",
            "\n"
          ]
        }
      ],
      "source": [
        "from sklearn.metrics import classification_report\n",
        "print(classification_report(Musice_class, y_train_pred_23))"
      ]
    },
    {
      "cell_type": "markdown",
      "metadata": {
        "id": "MLD_hhw_Cmmf"
      },
      "source": [
        "6- OVR-XGBooster"
      ]
    },
    {
      "cell_type": "code",
      "execution_count": null,
      "metadata": {
        "colab": {
          "base_uri": "https://localhost:8080/"
        },
        "id": "OuGnzE8lDSxm",
        "outputId": "763d4884-c5d1-4dd0-c1ee-1dbcfc59db7d"
      },
      "outputs": [
        {
          "output_type": "execute_result",
          "data": {
            "text/plain": [
              "OneVsRestClassifier(estimator=XGBClassifier())"
            ]
          },
          "metadata": {},
          "execution_count": 84
        }
      ],
      "source": [
        "from sklearn.multiclass import OneVsRestClassifier\n",
        "from xgboost import XGBClassifier\n",
        "xgb_classifier = OneVsRestClassifier(XGBClassifier())\n",
        "xgb_classifier.fit(Music_prepared, Musice_class)\n"
      ]
    },
    {
      "cell_type": "code",
      "execution_count": null,
      "metadata": {
        "id": "k1jcTyG7DS0L"
      },
      "outputs": [],
      "source": [
        "xbg_predictions_labels = xgb_classifier.predict(Music_prepared)"
      ]
    },
    {
      "cell_type": "code",
      "execution_count": null,
      "metadata": {
        "colab": {
          "base_uri": "https://localhost:8080/"
        },
        "id": "2ynlsiojDS2w",
        "outputId": "ec08cd61-c885-4928-ce9c-93db59eb732e"
      },
      "outputs": [
        {
          "output_type": "execute_result",
          "data": {
            "text/plain": [
              "array([[ 344,    0,    0,   13,   19,    0,    0,    9,    0,   12,    3],\n",
              "       [   0,    9,   31,    0,    0,   37,  192,    0,   44,   74,  491],\n",
              "       [   0,    0,  361,    0,    0,   12,   71,    0,    7,   71,  292],\n",
              "       [  24,    0,    0,  218,    8,    0,    0,    4,    0,    4,    0],\n",
              "       [  25,    0,    0,    1,  209,    0,    0,    0,    0,    8,    5],\n",
              "       [   0,    0,   14,    0,    0,  713,   27,    0,    1,  109,   62],\n",
              "       [   0,    0,   55,    0,    0,   83,  546,    0,   58,  150,  763],\n",
              "       [   6,    0,    0,    7,    0,    0,    0,  356,    0,    0,    0],\n",
              "       [   0,    0,    2,    0,    0,    1,   31,    0,  690,   10,  452],\n",
              "       [  22,    0,   44,    1,   14,  139,   79,    0,    5,  982,  329],\n",
              "       [  15,    1,   95,    6,   18,   44,  139,    0,  219,  205, 2425]])"
            ]
          },
          "metadata": {},
          "execution_count": 86
        }
      ],
      "source": [
        "conf_mx = confusion_matrix(Musice_class, xbg_predictions_labels)\n",
        "conf_mx"
      ]
    },
    {
      "cell_type": "code",
      "execution_count": null,
      "metadata": {
        "colab": {
          "base_uri": "https://localhost:8080/"
        },
        "id": "Pl8R3Vf1EKvk",
        "outputId": "9f1b859c-39eb-437b-f299-81085f8d93a7"
      },
      "outputs": [
        {
          "output_type": "stream",
          "name": "stdout",
          "text": [
            "              precision    recall  f1-score   support\n",
            "\n",
            "           0       0.79      0.86      0.82       400\n",
            "           1       0.90      0.01      0.02       878\n",
            "           2       0.60      0.44      0.51       814\n",
            "           3       0.89      0.84      0.87       258\n",
            "           4       0.78      0.84      0.81       248\n",
            "           5       0.69      0.77      0.73       926\n",
            "           6       0.50      0.33      0.40      1655\n",
            "           7       0.96      0.96      0.96       369\n",
            "           8       0.67      0.58      0.62      1186\n",
            "           9       0.60      0.61      0.61      1615\n",
            "          10       0.50      0.77      0.61      3167\n",
            "\n",
            "    accuracy                           0.60     11516\n",
            "   macro avg       0.72      0.64      0.63     11516\n",
            "weighted avg       0.63      0.60      0.57     11516\n",
            "\n"
          ]
        }
      ],
      "source": [
        "from sklearn.metrics import classification_report\n",
        "print(classification_report(Musice_class, xbg_predictions_labels))"
      ]
    },
    {
      "cell_type": "markdown",
      "metadata": {
        "id": "8tSC9m91CsvA"
      },
      "source": [
        "7-OVO_XGBooster"
      ]
    },
    {
      "cell_type": "code",
      "execution_count": null,
      "metadata": {
        "colab": {
          "base_uri": "https://localhost:8080/"
        },
        "id": "PFJ6nX3GCr45",
        "outputId": "89141497-d65d-4c65-cb92-2ec8ba165b33"
      },
      "outputs": [
        {
          "output_type": "execute_result",
          "data": {
            "text/plain": [
              "OneVsOneClassifier(estimator=XGBClassifier(probability=True))"
            ]
          },
          "metadata": {},
          "execution_count": 88
        }
      ],
      "source": [
        "from sklearn.multiclass import OneVsOneClassifier\n",
        "#from xgboost import OneVsOneClassifier\n",
        "xgb_classifier1 = OneVsOneClassifier(XGBClassifier(probability=True))\n",
        "xgb_classifier1.fit(Music_prepared, Musice_class)"
      ]
    },
    {
      "cell_type": "code",
      "execution_count": null,
      "metadata": {
        "id": "lrCDMhWuCsHY"
      },
      "outputs": [],
      "source": [
        "xbg_predictions_labels2 = xgb_classifier1.predict(Music_prepared)"
      ]
    },
    {
      "cell_type": "code",
      "execution_count": null,
      "metadata": {
        "colab": {
          "base_uri": "https://localhost:8080/"
        },
        "id": "T4vAFr4_CsLy",
        "outputId": "92d946ca-7aa4-4184-e046-86cab7aac506"
      },
      "outputs": [
        {
          "output_type": "execute_result",
          "data": {
            "text/plain": [
              "array([[ 372,    0,    0,    4,    7,    0,    0,    3,    0,   11,    3],\n",
              "       [   0,   21,   35,    0,    0,   30,  185,    0,   44,   61,  502],\n",
              "       [   0,    0,  404,    0,    0,    9,   62,    0,    3,   62,  274],\n",
              "       [  15,    0,    0,  237,    6,    0,    0,    0,    0,    0,    0],\n",
              "       [  12,    0,    0,    0,  230,    0,    0,    0,    0,    4,    2],\n",
              "       [   0,    0,   10,    0,    0,  723,   31,    0,    1,   91,   70],\n",
              "       [   0,    3,   56,    0,    0,   49,  610,    0,   59,  127,  751],\n",
              "       [   1,    0,    0,    0,    1,    0,    0,  367,    0,    0,    0],\n",
              "       [   0,    0,    2,    0,    0,    0,   23,    0,  724,    7,  430],\n",
              "       [  10,    0,   38,    0,    9,  112,   88,    0,    5, 1023,  330],\n",
              "       [   4,    0,   87,    2,    7,   32,  145,    0,  201,  171, 2518]])"
            ]
          },
          "metadata": {},
          "execution_count": 90
        }
      ],
      "source": [
        "conf_mx = confusion_matrix(Musice_class, xbg_predictions_labels2)\n",
        "conf_mx"
      ]
    },
    {
      "cell_type": "code",
      "execution_count": null,
      "metadata": {
        "colab": {
          "base_uri": "https://localhost:8080/"
        },
        "id": "zpFT0uglEJ01",
        "outputId": "a0849d19-b38d-49e7-daad-b496a75a6f31"
      },
      "outputs": [
        {
          "output_type": "stream",
          "name": "stdout",
          "text": [
            "              precision    recall  f1-score   support\n",
            "\n",
            "           0       0.90      0.93      0.91       400\n",
            "           1       0.88      0.02      0.05       878\n",
            "           2       0.64      0.50      0.56       814\n",
            "           3       0.98      0.92      0.95       258\n",
            "           4       0.88      0.93      0.91       248\n",
            "           5       0.76      0.78      0.77       926\n",
            "           6       0.53      0.37      0.44      1655\n",
            "           7       0.99      0.99      0.99       369\n",
            "           8       0.70      0.61      0.65      1186\n",
            "           9       0.66      0.63      0.65      1615\n",
            "          10       0.52      0.80      0.63      3167\n",
            "\n",
            "    accuracy                           0.63     11516\n",
            "   macro avg       0.77      0.68      0.68     11516\n",
            "weighted avg       0.66      0.63      0.60     11516\n",
            "\n"
          ]
        }
      ],
      "source": [
        "from sklearn.metrics import classification_report\n",
        "print(classification_report(Musice_class, xbg_predictions_labels2))"
      ]
    },
    {
      "cell_type": "markdown",
      "metadata": {
        "id": "5a6fTGoq-jQP"
      },
      "source": [
        "8-NN"
      ]
    },
    {
      "cell_type": "markdown",
      "metadata": {
        "id": "pNGmFZhPDKr2"
      },
      "source": [
        "9-DNN"
      ]
    },
    {
      "cell_type": "markdown",
      "metadata": {
        "id": "YRghSWa9upfg"
      },
      "source": [
        "## GridSearchCV"
      ]
    },
    {
      "cell_type": "code",
      "execution_count": null,
      "metadata": {
        "id": "0aPYjKrKureg"
      },
      "outputs": [],
      "source": [
        "from sklearn.model_selection import GridSearchCV"
      ]
    },
    {
      "cell_type": "code",
      "execution_count": null,
      "metadata": {
        "colab": {
          "base_uri": "https://localhost:8080/"
        },
        "id": "UUZDQAKOuqi5",
        "outputId": "068124a0-9c0c-4f1b-e8ef-14da943d71bb"
      },
      "outputs": [
        {
          "output_type": "execute_result",
          "data": {
            "text/plain": [
              "GridSearchCV(cv=5, estimator=RandomForestClassifier(),\n",
              "             param_grid=[{'max_features': [4, 6], 'n_estimators': [3, 10, 30]},\n",
              "                         {'bootstrap': [True], 'max_features': [2, 3, 4, 6],\n",
              "                          'n_estimators': [50, 100]}],\n",
              "             return_train_score=True, scoring='f1_macro')"
            ]
          },
          "metadata": {},
          "execution_count": 93
        }
      ],
      "source": [
        "# CODE HERE\n",
        "param_grid = [\n",
        "{'n_estimators': [3, 10, 30], 'max_features': [ 4, 6]},\n",
        "{'bootstrap': [True], 'n_estimators': [50,100], 'max_features': [2, 3, 4,6]},\n",
        "]\n",
        "\n",
        "forest_clf1= RandomForestClassifier()\n",
        "\n",
        "grid_search1 = GridSearchCV(forest_clf1, param_grid, cv=5,scoring='f1_macro',return_train_score=True)\n",
        "\n",
        "grid_search1.fit(Music_prepared, Musice_class)"
      ]
    },
    {
      "cell_type": "code",
      "execution_count": null,
      "metadata": {
        "colab": {
          "base_uri": "https://localhost:8080/"
        },
        "id": "ZVvx7KH1O4W3",
        "outputId": "c6058c99-e671-4572-eb1d-fed5e9543219"
      },
      "outputs": [
        {
          "output_type": "execute_result",
          "data": {
            "text/plain": [
              "GridSearchCV(cv=5, estimator=RandomForestClassifier(),\n",
              "             param_grid=[{'max_features': [4, 6], 'n_estimators': [3, 10, 30]},\n",
              "                         {'bootstrap': [True], 'max_features': [2, 3, 4, 6],\n",
              "                          'n_estimators': [50, 100]}],\n",
              "             return_train_score=True, scoring='f1_macro')"
            ]
          },
          "metadata": {},
          "execution_count": 94
        }
      ],
      "source": [
        "grid_search1.fit(Music_prepared, Musice_class)"
      ]
    },
    {
      "cell_type": "code",
      "execution_count": null,
      "metadata": {
        "colab": {
          "base_uri": "https://localhost:8080/"
        },
        "id": "0OX356nHMea_",
        "outputId": "910c22cc-d172-487a-ce6a-283b8ed03c52"
      },
      "outputs": [
        {
          "output_type": "execute_result",
          "data": {
            "text/plain": [
              "{'bootstrap': True, 'max_features': 4, 'n_estimators': 100}"
            ]
          },
          "metadata": {},
          "execution_count": 95
        }
      ],
      "source": [
        "grid_search1.best_params_"
      ]
    },
    {
      "cell_type": "code",
      "execution_count": null,
      "metadata": {
        "colab": {
          "base_uri": "https://localhost:8080/"
        },
        "id": "T5WOvo706p-7",
        "outputId": "f5fc232c-ed78-4aa5-943c-4bf49f89be25"
      },
      "outputs": [
        {
          "output_type": "execute_result",
          "data": {
            "text/plain": [
              "array([0.08628609, 0.08989773, 0.08719928, 0.0828832 , 0.01237234,\n",
              "       0.10388324, 0.10919321, 0.08482527, 0.06315389, 0.08418208,\n",
              "       0.06455398, 0.12534468, 0.00622502])"
            ]
          },
          "metadata": {},
          "execution_count": 96
        }
      ],
      "source": [
        "feature_importances = grid_search1.best_estimator_.feature_importances_\n",
        "feature_importances"
      ]
    },
    {
      "cell_type": "code",
      "execution_count": null,
      "metadata": {
        "colab": {
          "base_uri": "https://localhost:8080/"
        },
        "id": "xCcI6LF67x72",
        "outputId": "4289327a-05a8-4943-a660-37a4687fe07f"
      },
      "outputs": [
        {
          "output_type": "execute_result",
          "data": {
            "text/plain": [
              "Index(['Popularity', 'danceability', 'energy', 'loudness', 'mode',\n",
              "       'speechiness', 'acousticness', 'instrumentalness', 'liveness',\n",
              "       'valence', 'tempo', 'duration_in min/ms', 'time_signature', 'Class'],\n",
              "      dtype='object')"
            ]
          },
          "metadata": {},
          "execution_count": 97
        }
      ],
      "source": [
        "name_colo=data1.columns\n",
        "name_colo"
      ]
    },
    {
      "cell_type": "code",
      "execution_count": null,
      "metadata": {
        "colab": {
          "base_uri": "https://localhost:8080/"
        },
        "id": "hiuUX5HX75-v",
        "outputId": "d5df8bce-45c0-47ec-f25c-61a316184950"
      },
      "outputs": [
        {
          "output_type": "execute_result",
          "data": {
            "text/plain": [
              "[(0.12534467516753986, 'duration_in min/ms'),\n",
              " (0.10919320797659134, 'acousticness'),\n",
              " (0.10388323551025205, 'speechiness'),\n",
              " (0.0898977322345408, 'danceability'),\n",
              " (0.08719927537359652, 'energy'),\n",
              " (0.08628608768608219, 'Popularity'),\n",
              " (0.08482526736848098, 'instrumentalness'),\n",
              " (0.08418208414925786, 'valence'),\n",
              " (0.0828831968068267, 'loudness'),\n",
              " (0.06455398265693081, 'tempo'),\n",
              " (0.06315389160569863, 'liveness'),\n",
              " (0.012372338913620575, 'mode'),\n",
              " (0.006225024550581671, 'time_signature')]"
            ]
          },
          "metadata": {},
          "execution_count": 98
        }
      ],
      "source": [
        "sorted(zip(feature_importances, name_colo), reverse=True)"
      ]
    },
    {
      "cell_type": "code",
      "execution_count": null,
      "metadata": {
        "id": "lXGqxK0oOxy_"
      },
      "outputs": [],
      "source": [
        "y_train_pred_12 = cross_val_predict(grid_search1, Music_prepared, Musice_class, cv=3)"
      ]
    },
    {
      "cell_type": "markdown",
      "metadata": {
        "id": "ZCcmAIG0_mSz"
      },
      "source": [
        "Ensemble Learning "
      ]
    },
    {
      "cell_type": "code",
      "execution_count": null,
      "metadata": {
        "id": "VNC-TSrNPvLe"
      },
      "outputs": [],
      "source": [
        "\n",
        "from sklearn.ensemble import VotingClassifier"
      ]
    },
    {
      "cell_type": "code",
      "execution_count": null,
      "metadata": {
        "id": "A7djdBiPFEwB",
        "colab": {
          "base_uri": "https://localhost:8080/"
        },
        "outputId": "6fd0175c-81f1-4f46-c2d1-9100b363c509"
      },
      "outputs": [
        {
          "output_type": "execute_result",
          "data": {
            "text/plain": [
              "VotingClassifier(estimators=[('Gb', GradientBoostingClassifier()),\n",
              "                             ('rf',\n",
              "                              GridSearchCV(cv=5,\n",
              "                                           estimator=RandomForestClassifier(),\n",
              "                                           param_grid=[{'max_features': [4, 6],\n",
              "                                                        'n_estimators': [3, 10,\n",
              "                                                                         30]},\n",
              "                                                       {'bootstrap': [True],\n",
              "                                                        'max_features': [2, 3,\n",
              "                                                                         4, 6],\n",
              "                                                        'n_estimators': [50,\n",
              "                                                                         100]}],\n",
              "                                           return_train_score=True,\n",
              "                                           scoring='f1_macro')),\n",
              "                             ('svc', SVC(probability=True)),\n",
              "                             ('XGB', XGBClassifier()),\n",
              "                             ('knn', KNeighborsClassifier(n_neighbors=11)),\n",
              "                             ('ovr_XGB',\n",
              "                              OneVsRestClassifier(estimator=XGBClassifier()))],\n",
              "                 voting='soft')"
            ]
          },
          "metadata": {},
          "execution_count": 101
        }
      ],
      "source": [
        "voting_clf = VotingClassifier(\n",
        "estimators=[('Gb', GB_clf), ('rf', grid_search1), ('svc', svm_clf),(\"XGB\",XGB_clr),('knn',neigh),(\"ovr_XGB\",xgb_classifier)],\n",
        "voting='soft')\n",
        "voting_clf.fit(Music_prepared, Musice_class)"
      ]
    },
    {
      "cell_type": "code",
      "execution_count": null,
      "metadata": {
        "id": "Fn6Rt2uQFjnm"
      },
      "outputs": [],
      "source": [
        "y_train_pred_14 = cross_val_predict(voting_clf, Music_prepared, Musice_class, cv=3)"
      ]
    },
    {
      "cell_type": "code",
      "execution_count": null,
      "metadata": {
        "colab": {
          "base_uri": "https://localhost:8080/"
        },
        "id": "2oBeAFKv0ZRW",
        "outputId": "0276e61b-c0e0-4add-c3e5-24a39c8482ad"
      },
      "outputs": [
        {
          "output_type": "execute_result",
          "data": {
            "text/plain": [
              "(11516, 13)"
            ]
          },
          "metadata": {},
          "execution_count": 103
        }
      ],
      "source": [
        "Music_prepared.shape"
      ]
    },
    {
      "cell_type": "code",
      "execution_count": null,
      "metadata": {
        "colab": {
          "base_uri": "https://localhost:8080/"
        },
        "id": "JgzNV9c20lTc",
        "outputId": "6debc8e7-00bd-4153-b54f-3b69cdf451fe"
      },
      "outputs": [
        {
          "output_type": "execute_result",
          "data": {
            "text/plain": [
              "(11516,)"
            ]
          },
          "metadata": {},
          "execution_count": 104
        }
      ],
      "source": [
        "Musice_class.shape"
      ]
    },
    {
      "cell_type": "code",
      "execution_count": null,
      "metadata": {
        "colab": {
          "base_uri": "https://localhost:8080/"
        },
        "id": "24icdWDKFjqV",
        "outputId": "50427b60-67ee-48a0-af17-36ca9a8085e7"
      },
      "outputs": [
        {
          "output_type": "stream",
          "name": "stdout",
          "text": [
            "              precision    recall  f1-score   support\n",
            "\n",
            "           0       0.64      0.77      0.70       400\n",
            "           1       0.16      0.01      0.02       878\n",
            "           2       0.54      0.36      0.43       814\n",
            "           3       0.77      0.71      0.74       258\n",
            "           4       0.62      0.64      0.63       248\n",
            "           5       0.66      0.71      0.69       926\n",
            "           6       0.40      0.24      0.30      1655\n",
            "           7       0.93      0.92      0.93       369\n",
            "           8       0.62      0.49      0.55      1186\n",
            "           9       0.53      0.55      0.54      1615\n",
            "          10       0.46      0.73      0.57      3167\n",
            "\n",
            "    accuracy                           0.53     11516\n",
            "   macro avg       0.58      0.56      0.55     11516\n",
            "weighted avg       0.51      0.53      0.50     11516\n",
            "\n"
          ]
        }
      ],
      "source": [
        "print(classification_report(Musice_class, y_train_pred_14))"
      ]
    },
    {
      "cell_type": "markdown",
      "metadata": {
        "id": "ZQTrAZgLmqrc"
      },
      "source": [
        "# second level of voting \n",
        "\n"
      ]
    },
    {
      "cell_type": "code",
      "execution_count": null,
      "metadata": {
        "colab": {
          "base_uri": "https://localhost:8080/"
        },
        "id": "vXI50hohmIZ_",
        "outputId": "deb32229-82c9-4ef8-82d6-f2334c88f0db"
      },
      "outputs": [
        {
          "output_type": "execute_result",
          "data": {
            "text/plain": [
              "VotingClassifier(estimators=[('ovr_XGB',\n",
              "                              OneVsRestClassifier(estimator=XGBClassifier())),\n",
              "                             ('ovo_XGB',\n",
              "                              OneVsOneClassifier(estimator=XGBClassifier(probability=True))),\n",
              "                             ('vot',\n",
              "                              VotingClassifier(estimators=[('Gb',\n",
              "                                                            GradientBoostingClassifier()),\n",
              "                                                           ('rf',\n",
              "                                                            GridSearchCV(cv=5,\n",
              "                                                                         estimator=RandomForestClassifier(),\n",
              "                                                                         param_grid=[{'max_features': [4,\n",
              "                                                                                                       6],\n",
              "                                                                                      'n_estimators': [3,\n",
              "                                                                                                       10,\n",
              "                                                                                                       30]},\n",
              "                                                                                     {'bootstrap': [True],\n",
              "                                                                                      'max_features': [2,\n",
              "                                                                                                       3,\n",
              "                                                                                                       4,\n",
              "                                                                                                       6],\n",
              "                                                                                      'n_estimators': [50,\n",
              "                                                                                                       100]}],\n",
              "                                                                         return_train_score=True,\n",
              "                                                                         scoring='f1_macro')),\n",
              "                                                           ('svc',\n",
              "                                                            SVC(probability=True)),\n",
              "                                                           ('XGB',\n",
              "                                                            XGBClassifier()),\n",
              "                                                           ('knn',\n",
              "                                                            KNeighborsClassifier(n_neighbors=11)),\n",
              "                                                           ('ovr_XGB',\n",
              "                                                            OneVsRestClassifier(estimator=XGBClassifier()))],\n",
              "                                               voting='soft'))])"
            ]
          },
          "metadata": {},
          "execution_count": 106
        }
      ],
      "source": [
        "voting_clf1 = VotingClassifier(\n",
        "estimators=[(\"ovr_XGB\",xgb_classifier),(\"ovo_XGB\",xgb_classifier1),(\"vot\",voting_clf)],\n",
        "voting='hard')\n",
        "voting_clf1.fit(Music_prepared, Musice_class)"
      ]
    },
    {
      "cell_type": "code",
      "execution_count": null,
      "metadata": {
        "id": "x-cbp_JVmhig"
      },
      "outputs": [],
      "source": [
        "from sklearn.model_selection import cross_val_score\n",
        "y_train_pred_122 = cross_val_predict(voting_clf1, Music_prepared, Musice_class, cv=3)"
      ]
    },
    {
      "cell_type": "code",
      "execution_count": null,
      "metadata": {
        "id": "u5ArVvK9mkXw",
        "colab": {
          "base_uri": "https://localhost:8080/"
        },
        "outputId": "96f7a2e9-2b5a-447c-eb51-09fa405c0010"
      },
      "outputs": [
        {
          "output_type": "stream",
          "name": "stdout",
          "text": [
            "              precision    recall  f1-score   support\n",
            "\n",
            "           0       0.64      0.77      0.70       400\n",
            "           1       0.17      0.00      0.01       878\n",
            "           2       0.52      0.37      0.43       814\n",
            "           3       0.78      0.73      0.75       258\n",
            "           4       0.62      0.63      0.62       248\n",
            "           5       0.66      0.72      0.69       926\n",
            "           6       0.43      0.27      0.33      1655\n",
            "           7       0.93      0.93      0.93       369\n",
            "           8       0.61      0.51      0.56      1186\n",
            "           9       0.55      0.54      0.54      1615\n",
            "          10       0.46      0.72      0.56      3167\n",
            "\n",
            "    accuracy                           0.54     11516\n",
            "   macro avg       0.58      0.56      0.56     11516\n",
            "weighted avg       0.51      0.54      0.51     11516\n",
            "\n"
          ]
        }
      ],
      "source": [
        "print(classification_report(Musice_class, y_train_pred_122))"
      ]
    },
    {
      "cell_type": "markdown",
      "metadata": {
        "id": "QdosNftGP9u3"
      },
      "source": [
        "# Evaluate the System on the Test Set"
      ]
    },
    {
      "cell_type": "markdown",
      "metadata": {
        "id": "PYclSVxHQBLH"
      },
      "source": [
        "1-get the predictors and the labels from your test set"
      ]
    },
    {
      "cell_type": "code",
      "execution_count": null,
      "metadata": {
        "id": "R6QTygY4QLnn",
        "colab": {
          "base_uri": "https://localhost:8080/",
          "height": 409
        },
        "outputId": "6e9ff627-4d8d-4438-88f8-ed31790cf8d6"
      },
      "outputs": [
        {
          "output_type": "execute_result",
          "data": {
            "text/plain": [
              "   id                 Artist Name             Track Name  Popularity  \\\n",
              "0   0                  Pale Waves      She's My Religion        52.0   \n",
              "1   1                 Mungo Jerry      In the Summertime        69.0   \n",
              "2   2  Buddy Holly & The Crickets             Maybe Baby        50.0   \n",
              "3   3                 Superheaven          Life In a Jar        40.0   \n",
              "4   4                       HARDY  GIVE HEAVEN SOME HELL        64.0   \n",
              "\n",
              "   danceability  energy   key  loudness  mode  speechiness  acousticness  \\\n",
              "0         0.522   0.726   4.0    -4.115     1       0.0383      0.348000   \n",
              "1         0.754   0.449   4.0   -14.013     1       0.0615      0.724000   \n",
              "2         0.607   0.477   9.0   -12.904     1       0.0333      0.708000   \n",
              "3         0.484   0.872   1.0    -5.586     1       0.0559      0.000384   \n",
              "4         0.639   0.843  11.0    -4.975     1       0.0362      0.052500   \n",
              "\n",
              "   instrumentalness  liveness  valence    tempo  duration_in min/ms  \\\n",
              "0          0.000005    0.1480    0.331  161.867            189587.0   \n",
              "1               NaN    0.1620    0.973   82.751            211880.0   \n",
              "2               NaN    0.2530    0.887  136.614            122600.0   \n",
              "3          0.000672    0.1480    0.347  150.027            222208.0   \n",
              "4               NaN    0.0854    0.528  126.047            217802.0   \n",
              "\n",
              "   time_signature  \n",
              "0               4  \n",
              "1               4  \n",
              "2               4  \n",
              "3               4  \n",
              "4               4  "
            ],
            "text/html": [
              "\n",
              "  <div id=\"df-d10adf33-6c84-4c47-b6b9-023a9ecbc661\">\n",
              "    <div class=\"colab-df-container\">\n",
              "      <div>\n",
              "<style scoped>\n",
              "    .dataframe tbody tr th:only-of-type {\n",
              "        vertical-align: middle;\n",
              "    }\n",
              "\n",
              "    .dataframe tbody tr th {\n",
              "        vertical-align: top;\n",
              "    }\n",
              "\n",
              "    .dataframe thead th {\n",
              "        text-align: right;\n",
              "    }\n",
              "</style>\n",
              "<table border=\"1\" class=\"dataframe\">\n",
              "  <thead>\n",
              "    <tr style=\"text-align: right;\">\n",
              "      <th></th>\n",
              "      <th>id</th>\n",
              "      <th>Artist Name</th>\n",
              "      <th>Track Name</th>\n",
              "      <th>Popularity</th>\n",
              "      <th>danceability</th>\n",
              "      <th>energy</th>\n",
              "      <th>key</th>\n",
              "      <th>loudness</th>\n",
              "      <th>mode</th>\n",
              "      <th>speechiness</th>\n",
              "      <th>acousticness</th>\n",
              "      <th>instrumentalness</th>\n",
              "      <th>liveness</th>\n",
              "      <th>valence</th>\n",
              "      <th>tempo</th>\n",
              "      <th>duration_in min/ms</th>\n",
              "      <th>time_signature</th>\n",
              "    </tr>\n",
              "  </thead>\n",
              "  <tbody>\n",
              "    <tr>\n",
              "      <th>0</th>\n",
              "      <td>0</td>\n",
              "      <td>Pale Waves</td>\n",
              "      <td>She's My Religion</td>\n",
              "      <td>52.0</td>\n",
              "      <td>0.522</td>\n",
              "      <td>0.726</td>\n",
              "      <td>4.0</td>\n",
              "      <td>-4.115</td>\n",
              "      <td>1</td>\n",
              "      <td>0.0383</td>\n",
              "      <td>0.348000</td>\n",
              "      <td>0.000005</td>\n",
              "      <td>0.1480</td>\n",
              "      <td>0.331</td>\n",
              "      <td>161.867</td>\n",
              "      <td>189587.0</td>\n",
              "      <td>4</td>\n",
              "    </tr>\n",
              "    <tr>\n",
              "      <th>1</th>\n",
              "      <td>1</td>\n",
              "      <td>Mungo Jerry</td>\n",
              "      <td>In the Summertime</td>\n",
              "      <td>69.0</td>\n",
              "      <td>0.754</td>\n",
              "      <td>0.449</td>\n",
              "      <td>4.0</td>\n",
              "      <td>-14.013</td>\n",
              "      <td>1</td>\n",
              "      <td>0.0615</td>\n",
              "      <td>0.724000</td>\n",
              "      <td>NaN</td>\n",
              "      <td>0.1620</td>\n",
              "      <td>0.973</td>\n",
              "      <td>82.751</td>\n",
              "      <td>211880.0</td>\n",
              "      <td>4</td>\n",
              "    </tr>\n",
              "    <tr>\n",
              "      <th>2</th>\n",
              "      <td>2</td>\n",
              "      <td>Buddy Holly &amp; The Crickets</td>\n",
              "      <td>Maybe Baby</td>\n",
              "      <td>50.0</td>\n",
              "      <td>0.607</td>\n",
              "      <td>0.477</td>\n",
              "      <td>9.0</td>\n",
              "      <td>-12.904</td>\n",
              "      <td>1</td>\n",
              "      <td>0.0333</td>\n",
              "      <td>0.708000</td>\n",
              "      <td>NaN</td>\n",
              "      <td>0.2530</td>\n",
              "      <td>0.887</td>\n",
              "      <td>136.614</td>\n",
              "      <td>122600.0</td>\n",
              "      <td>4</td>\n",
              "    </tr>\n",
              "    <tr>\n",
              "      <th>3</th>\n",
              "      <td>3</td>\n",
              "      <td>Superheaven</td>\n",
              "      <td>Life In a Jar</td>\n",
              "      <td>40.0</td>\n",
              "      <td>0.484</td>\n",
              "      <td>0.872</td>\n",
              "      <td>1.0</td>\n",
              "      <td>-5.586</td>\n",
              "      <td>1</td>\n",
              "      <td>0.0559</td>\n",
              "      <td>0.000384</td>\n",
              "      <td>0.000672</td>\n",
              "      <td>0.1480</td>\n",
              "      <td>0.347</td>\n",
              "      <td>150.027</td>\n",
              "      <td>222208.0</td>\n",
              "      <td>4</td>\n",
              "    </tr>\n",
              "    <tr>\n",
              "      <th>4</th>\n",
              "      <td>4</td>\n",
              "      <td>HARDY</td>\n",
              "      <td>GIVE HEAVEN SOME HELL</td>\n",
              "      <td>64.0</td>\n",
              "      <td>0.639</td>\n",
              "      <td>0.843</td>\n",
              "      <td>11.0</td>\n",
              "      <td>-4.975</td>\n",
              "      <td>1</td>\n",
              "      <td>0.0362</td>\n",
              "      <td>0.052500</td>\n",
              "      <td>NaN</td>\n",
              "      <td>0.0854</td>\n",
              "      <td>0.528</td>\n",
              "      <td>126.047</td>\n",
              "      <td>217802.0</td>\n",
              "      <td>4</td>\n",
              "    </tr>\n",
              "  </tbody>\n",
              "</table>\n",
              "</div>\n",
              "      <button class=\"colab-df-convert\" onclick=\"convertToInteractive('df-d10adf33-6c84-4c47-b6b9-023a9ecbc661')\"\n",
              "              title=\"Convert this dataframe to an interactive table.\"\n",
              "              style=\"display:none;\">\n",
              "        \n",
              "  <svg xmlns=\"http://www.w3.org/2000/svg\" height=\"24px\"viewBox=\"0 0 24 24\"\n",
              "       width=\"24px\">\n",
              "    <path d=\"M0 0h24v24H0V0z\" fill=\"none\"/>\n",
              "    <path d=\"M18.56 5.44l.94 2.06.94-2.06 2.06-.94-2.06-.94-.94-2.06-.94 2.06-2.06.94zm-11 1L8.5 8.5l.94-2.06 2.06-.94-2.06-.94L8.5 2.5l-.94 2.06-2.06.94zm10 10l.94 2.06.94-2.06 2.06-.94-2.06-.94-.94-2.06-.94 2.06-2.06.94z\"/><path d=\"M17.41 7.96l-1.37-1.37c-.4-.4-.92-.59-1.43-.59-.52 0-1.04.2-1.43.59L10.3 9.45l-7.72 7.72c-.78.78-.78 2.05 0 2.83L4 21.41c.39.39.9.59 1.41.59.51 0 1.02-.2 1.41-.59l7.78-7.78 2.81-2.81c.8-.78.8-2.07 0-2.86zM5.41 20L4 18.59l7.72-7.72 1.47 1.35L5.41 20z\"/>\n",
              "  </svg>\n",
              "      </button>\n",
              "      \n",
              "  <style>\n",
              "    .colab-df-container {\n",
              "      display:flex;\n",
              "      flex-wrap:wrap;\n",
              "      gap: 12px;\n",
              "    }\n",
              "\n",
              "    .colab-df-convert {\n",
              "      background-color: #E8F0FE;\n",
              "      border: none;\n",
              "      border-radius: 50%;\n",
              "      cursor: pointer;\n",
              "      display: none;\n",
              "      fill: #1967D2;\n",
              "      height: 32px;\n",
              "      padding: 0 0 0 0;\n",
              "      width: 32px;\n",
              "    }\n",
              "\n",
              "    .colab-df-convert:hover {\n",
              "      background-color: #E2EBFA;\n",
              "      box-shadow: 0px 1px 2px rgba(60, 64, 67, 0.3), 0px 1px 3px 1px rgba(60, 64, 67, 0.15);\n",
              "      fill: #174EA6;\n",
              "    }\n",
              "\n",
              "    [theme=dark] .colab-df-convert {\n",
              "      background-color: #3B4455;\n",
              "      fill: #D2E3FC;\n",
              "    }\n",
              "\n",
              "    [theme=dark] .colab-df-convert:hover {\n",
              "      background-color: #434B5C;\n",
              "      box-shadow: 0px 1px 3px 1px rgba(0, 0, 0, 0.15);\n",
              "      filter: drop-shadow(0px 1px 2px rgba(0, 0, 0, 0.3));\n",
              "      fill: #FFFFFF;\n",
              "    }\n",
              "  </style>\n",
              "\n",
              "      <script>\n",
              "        const buttonEl =\n",
              "          document.querySelector('#df-d10adf33-6c84-4c47-b6b9-023a9ecbc661 button.colab-df-convert');\n",
              "        buttonEl.style.display =\n",
              "          google.colab.kernel.accessAllowed ? 'block' : 'none';\n",
              "\n",
              "        async function convertToInteractive(key) {\n",
              "          const element = document.querySelector('#df-d10adf33-6c84-4c47-b6b9-023a9ecbc661');\n",
              "          const dataTable =\n",
              "            await google.colab.kernel.invokeFunction('convertToInteractive',\n",
              "                                                     [key], {});\n",
              "          if (!dataTable) return;\n",
              "\n",
              "          const docLinkHtml = 'Like what you see? Visit the ' +\n",
              "            '<a target=\"_blank\" href=https://colab.research.google.com/notebooks/data_table.ipynb>data table notebook</a>'\n",
              "            + ' to learn more about interactive tables.';\n",
              "          element.innerHTML = '';\n",
              "          dataTable['output_type'] = 'display_data';\n",
              "          await google.colab.output.renderOutput(dataTable, element);\n",
              "          const docLink = document.createElement('div');\n",
              "          docLink.innerHTML = docLinkHtml;\n",
              "          element.appendChild(docLink);\n",
              "        }\n",
              "      </script>\n",
              "    </div>\n",
              "  </div>\n",
              "  "
            ]
          },
          "metadata": {},
          "execution_count": 109
        }
      ],
      "source": [
        "test_set=pd.read_csv(\"test.csv\")\n",
        "test_set.head()"
      ]
    },
    {
      "cell_type": "code",
      "execution_count": null,
      "metadata": {
        "id": "bM7VWYbSPvR3"
      },
      "outputs": [],
      "source": [
        "\n",
        "final_model=voting_clf1\n",
        "test_set1 = test_set.copy()\n",
        "\n",
        "\n"
      ]
    },
    {
      "cell_type": "code",
      "execution_count": null,
      "metadata": {
        "id": "SD2cjwEFK8wO"
      },
      "outputs": [],
      "source": [
        "test_set1=X_test\n",
        "test_label=y_test"
      ]
    },
    {
      "cell_type": "code",
      "execution_count": null,
      "metadata": {
        "id": "6LtfFQFURkA3",
        "colab": {
          "base_uri": "https://localhost:8080/"
        },
        "outputId": "dbc7a472-ccfb-4aae-9a09-5a9919abd91c"
      },
      "outputs": [
        {
          "output_type": "execute_result",
          "data": {
            "text/plain": [
              "(2880, 17)"
            ]
          },
          "metadata": {},
          "execution_count": 112
        }
      ],
      "source": [
        "test_set1.shape"
      ]
    },
    {
      "cell_type": "markdown",
      "metadata": {
        "id": "qD3SbylXSO4z"
      },
      "source": [
        "### A- Data Cleaning:"
      ]
    },
    {
      "cell_type": "code",
      "execution_count": null,
      "metadata": {
        "id": "VB7zFciVRkM8"
      },
      "outputs": [],
      "source": [
        "#Popularity\n",
        "mean_pop_test=test_set1[\"Popularity\"].mean()\n",
        "test_set1=test_set1.fillna({\"Popularity\":mean_pop_test})"
      ]
    },
    {
      "cell_type": "code",
      "execution_count": null,
      "metadata": {
        "id": "mD1ym-ZmRkPq"
      },
      "outputs": [],
      "source": [
        "#key\n",
        "from statistics import mode\n",
        "mode_key_test=mode(test_set1[\"key\"])\n",
        "test_set1=test_set1.fillna({\"key\":mode_key})"
      ]
    },
    {
      "cell_type": "code",
      "execution_count": null,
      "metadata": {
        "id": "EYu3C0KHRkR9"
      },
      "outputs": [],
      "source": [
        "#instrumentalness\n",
        "mean_instrumen_test=test_set1[\"instrumentalness\"].mean()\n",
        "test_set1=test_set1.fillna({\"instrumentalness\":mean_instrumen_test})"
      ]
    },
    {
      "cell_type": "markdown",
      "metadata": {
        "id": "ooLkT-SsTI4t"
      },
      "source": [
        "B-feature engineering;"
      ]
    },
    {
      "cell_type": "code",
      "execution_count": null,
      "metadata": {
        "id": "o9mF1qXxRCiI"
      },
      "outputs": [],
      "source": [
        "test_set1['duration_in min/ms']=test_set1['duration_in min/ms']/1000"
      ]
    },
    {
      "cell_type": "code",
      "execution_count": null,
      "metadata": {
        "id": "26Fa8o_aqUq1"
      },
      "outputs": [],
      "source": [
        "test_set1[\"loudness\"]=test_set1[\"loudness\"]*-1"
      ]
    },
    {
      "cell_type": "code",
      "execution_count": null,
      "metadata": {
        "id": "UPAV-BrvTNQ3",
        "colab": {
          "base_uri": "https://localhost:8080/"
        },
        "outputId": "90b315f7-970e-40c2-ee6c-b0faa1d5f081"
      },
      "outputs": [
        {
          "output_type": "execute_result",
          "data": {
            "text/plain": [
              "      Popularity  danceability  energy  loudness  mode  speechiness  \\\n",
              "6741        16.0         0.393   0.321    12.376     0       0.0345   \n",
              "1759        52.0         0.326   0.932     4.909     1       0.0506   \n",
              "8877        64.0         0.395   0.397     7.556     1       0.0368   \n",
              "9073        70.0         0.451   0.889     2.693     1       0.2610   \n",
              "3591        70.0         0.928   0.322    10.334     0       0.0838   \n",
              "\n",
              "      acousticness  instrumentalness  liveness  valence    tempo  \\\n",
              "6741       0.43000          0.166608    0.0865    0.129  175.770   \n",
              "1759       0.07330          0.725000    0.2930    0.397  143.927   \n",
              "8877       0.73500          0.166608    0.1100    0.303   70.568   \n",
              "9073       0.00167          0.002150    0.2580    0.586  131.073   \n",
              "3591       0.22100          0.000004    0.1150    0.468  109.999   \n",
              "\n",
              "      duration_in min/ms  time_signature  \n",
              "6741          211.000000               3  \n",
              "1759          338.869000               4  \n",
              "8877            0.004746               4  \n",
              "9073          153.800000               4  \n",
              "3591          245.621000               4  "
            ],
            "text/html": [
              "\n",
              "  <div id=\"df-08f43491-e868-4b4e-aba0-5d2c20d7201d\">\n",
              "    <div class=\"colab-df-container\">\n",
              "      <div>\n",
              "<style scoped>\n",
              "    .dataframe tbody tr th:only-of-type {\n",
              "        vertical-align: middle;\n",
              "    }\n",
              "\n",
              "    .dataframe tbody tr th {\n",
              "        vertical-align: top;\n",
              "    }\n",
              "\n",
              "    .dataframe thead th {\n",
              "        text-align: right;\n",
              "    }\n",
              "</style>\n",
              "<table border=\"1\" class=\"dataframe\">\n",
              "  <thead>\n",
              "    <tr style=\"text-align: right;\">\n",
              "      <th></th>\n",
              "      <th>Popularity</th>\n",
              "      <th>danceability</th>\n",
              "      <th>energy</th>\n",
              "      <th>loudness</th>\n",
              "      <th>mode</th>\n",
              "      <th>speechiness</th>\n",
              "      <th>acousticness</th>\n",
              "      <th>instrumentalness</th>\n",
              "      <th>liveness</th>\n",
              "      <th>valence</th>\n",
              "      <th>tempo</th>\n",
              "      <th>duration_in min/ms</th>\n",
              "      <th>time_signature</th>\n",
              "    </tr>\n",
              "  </thead>\n",
              "  <tbody>\n",
              "    <tr>\n",
              "      <th>6741</th>\n",
              "      <td>16.0</td>\n",
              "      <td>0.393</td>\n",
              "      <td>0.321</td>\n",
              "      <td>12.376</td>\n",
              "      <td>0</td>\n",
              "      <td>0.0345</td>\n",
              "      <td>0.43000</td>\n",
              "      <td>0.166608</td>\n",
              "      <td>0.0865</td>\n",
              "      <td>0.129</td>\n",
              "      <td>175.770</td>\n",
              "      <td>211.000000</td>\n",
              "      <td>3</td>\n",
              "    </tr>\n",
              "    <tr>\n",
              "      <th>1759</th>\n",
              "      <td>52.0</td>\n",
              "      <td>0.326</td>\n",
              "      <td>0.932</td>\n",
              "      <td>4.909</td>\n",
              "      <td>1</td>\n",
              "      <td>0.0506</td>\n",
              "      <td>0.07330</td>\n",
              "      <td>0.725000</td>\n",
              "      <td>0.2930</td>\n",
              "      <td>0.397</td>\n",
              "      <td>143.927</td>\n",
              "      <td>338.869000</td>\n",
              "      <td>4</td>\n",
              "    </tr>\n",
              "    <tr>\n",
              "      <th>8877</th>\n",
              "      <td>64.0</td>\n",
              "      <td>0.395</td>\n",
              "      <td>0.397</td>\n",
              "      <td>7.556</td>\n",
              "      <td>1</td>\n",
              "      <td>0.0368</td>\n",
              "      <td>0.73500</td>\n",
              "      <td>0.166608</td>\n",
              "      <td>0.1100</td>\n",
              "      <td>0.303</td>\n",
              "      <td>70.568</td>\n",
              "      <td>0.004746</td>\n",
              "      <td>4</td>\n",
              "    </tr>\n",
              "    <tr>\n",
              "      <th>9073</th>\n",
              "      <td>70.0</td>\n",
              "      <td>0.451</td>\n",
              "      <td>0.889</td>\n",
              "      <td>2.693</td>\n",
              "      <td>1</td>\n",
              "      <td>0.2610</td>\n",
              "      <td>0.00167</td>\n",
              "      <td>0.002150</td>\n",
              "      <td>0.2580</td>\n",
              "      <td>0.586</td>\n",
              "      <td>131.073</td>\n",
              "      <td>153.800000</td>\n",
              "      <td>4</td>\n",
              "    </tr>\n",
              "    <tr>\n",
              "      <th>3591</th>\n",
              "      <td>70.0</td>\n",
              "      <td>0.928</td>\n",
              "      <td>0.322</td>\n",
              "      <td>10.334</td>\n",
              "      <td>0</td>\n",
              "      <td>0.0838</td>\n",
              "      <td>0.22100</td>\n",
              "      <td>0.000004</td>\n",
              "      <td>0.1150</td>\n",
              "      <td>0.468</td>\n",
              "      <td>109.999</td>\n",
              "      <td>245.621000</td>\n",
              "      <td>4</td>\n",
              "    </tr>\n",
              "  </tbody>\n",
              "</table>\n",
              "</div>\n",
              "      <button class=\"colab-df-convert\" onclick=\"convertToInteractive('df-08f43491-e868-4b4e-aba0-5d2c20d7201d')\"\n",
              "              title=\"Convert this dataframe to an interactive table.\"\n",
              "              style=\"display:none;\">\n",
              "        \n",
              "  <svg xmlns=\"http://www.w3.org/2000/svg\" height=\"24px\"viewBox=\"0 0 24 24\"\n",
              "       width=\"24px\">\n",
              "    <path d=\"M0 0h24v24H0V0z\" fill=\"none\"/>\n",
              "    <path d=\"M18.56 5.44l.94 2.06.94-2.06 2.06-.94-2.06-.94-.94-2.06-.94 2.06-2.06.94zm-11 1L8.5 8.5l.94-2.06 2.06-.94-2.06-.94L8.5 2.5l-.94 2.06-2.06.94zm10 10l.94 2.06.94-2.06 2.06-.94-2.06-.94-.94-2.06-.94 2.06-2.06.94z\"/><path d=\"M17.41 7.96l-1.37-1.37c-.4-.4-.92-.59-1.43-.59-.52 0-1.04.2-1.43.59L10.3 9.45l-7.72 7.72c-.78.78-.78 2.05 0 2.83L4 21.41c.39.39.9.59 1.41.59.51 0 1.02-.2 1.41-.59l7.78-7.78 2.81-2.81c.8-.78.8-2.07 0-2.86zM5.41 20L4 18.59l7.72-7.72 1.47 1.35L5.41 20z\"/>\n",
              "  </svg>\n",
              "      </button>\n",
              "      \n",
              "  <style>\n",
              "    .colab-df-container {\n",
              "      display:flex;\n",
              "      flex-wrap:wrap;\n",
              "      gap: 12px;\n",
              "    }\n",
              "\n",
              "    .colab-df-convert {\n",
              "      background-color: #E8F0FE;\n",
              "      border: none;\n",
              "      border-radius: 50%;\n",
              "      cursor: pointer;\n",
              "      display: none;\n",
              "      fill: #1967D2;\n",
              "      height: 32px;\n",
              "      padding: 0 0 0 0;\n",
              "      width: 32px;\n",
              "    }\n",
              "\n",
              "    .colab-df-convert:hover {\n",
              "      background-color: #E2EBFA;\n",
              "      box-shadow: 0px 1px 2px rgba(60, 64, 67, 0.3), 0px 1px 3px 1px rgba(60, 64, 67, 0.15);\n",
              "      fill: #174EA6;\n",
              "    }\n",
              "\n",
              "    [theme=dark] .colab-df-convert {\n",
              "      background-color: #3B4455;\n",
              "      fill: #D2E3FC;\n",
              "    }\n",
              "\n",
              "    [theme=dark] .colab-df-convert:hover {\n",
              "      background-color: #434B5C;\n",
              "      box-shadow: 0px 1px 3px 1px rgba(0, 0, 0, 0.15);\n",
              "      filter: drop-shadow(0px 1px 2px rgba(0, 0, 0, 0.3));\n",
              "      fill: #FFFFFF;\n",
              "    }\n",
              "  </style>\n",
              "\n",
              "      <script>\n",
              "        const buttonEl =\n",
              "          document.querySelector('#df-08f43491-e868-4b4e-aba0-5d2c20d7201d button.colab-df-convert');\n",
              "        buttonEl.style.display =\n",
              "          google.colab.kernel.accessAllowed ? 'block' : 'none';\n",
              "\n",
              "        async function convertToInteractive(key) {\n",
              "          const element = document.querySelector('#df-08f43491-e868-4b4e-aba0-5d2c20d7201d');\n",
              "          const dataTable =\n",
              "            await google.colab.kernel.invokeFunction('convertToInteractive',\n",
              "                                                     [key], {});\n",
              "          if (!dataTable) return;\n",
              "\n",
              "          const docLinkHtml = 'Like what you see? Visit the ' +\n",
              "            '<a target=\"_blank\" href=https://colab.research.google.com/notebooks/data_table.ipynb>data table notebook</a>'\n",
              "            + ' to learn more about interactive tables.';\n",
              "          element.innerHTML = '';\n",
              "          dataTable['output_type'] = 'display_data';\n",
              "          await google.colab.output.renderOutput(dataTable, element);\n",
              "          const docLink = document.createElement('div');\n",
              "          docLink.innerHTML = docLinkHtml;\n",
              "          element.appendChild(docLink);\n",
              "        }\n",
              "      </script>\n",
              "    </div>\n",
              "  </div>\n",
              "  "
            ]
          },
          "metadata": {},
          "execution_count": 118
        }
      ],
      "source": [
        "test_set1=test_set1.drop(['id', 'Artist Name', 'Track Name',\"key\"],axis=1)\n",
        "test_set1.head()"
      ]
    },
    {
      "cell_type": "markdown",
      "metadata": {
        "id": "3_nvU_3NTV6D"
      },
      "source": [
        "C- Scaling"
      ]
    },
    {
      "cell_type": "code",
      "execution_count": null,
      "metadata": {
        "id": "QiWzLebMTPpv",
        "colab": {
          "base_uri": "https://localhost:8080/"
        },
        "outputId": "e44d9830-991c-4b9b-ed21-db010a87888a"
      },
      "outputs": [
        {
          "output_type": "execute_result",
          "data": {
            "text/plain": [
              "array([[-1.65284114, -0.89783416, -1.47307944, ...,  1.71732042,\n",
              "         0.08759287, -2.79598832],\n",
              "       [ 0.40740839, -1.30256753,  1.123346  , ...,  0.65491442,\n",
              "         1.21813719,  0.20753513],\n",
              "       [ 1.09415823, -0.88575257, -1.15011981, ..., -1.79262641,\n",
              "        -1.77790608,  0.20753513],\n",
              "       ...,\n",
              "       [-0.56548722, -0.56559035, -1.7917896 , ..., -0.12016186,\n",
              "         1.15610574,  0.20753513],\n",
              "       [ 2.124283  , -1.14550682,  1.03410716, ...,  0.7919065 ,\n",
              "         0.19345127,  0.20753513],\n",
              "       [-1.0805496 ,  0.34656994, -2.3229732 , ..., -0.72398135,\n",
              "        -0.10526516,  0.20753513]])"
            ]
          },
          "metadata": {},
          "execution_count": 119
        }
      ],
      "source": [
        "from sklearn.pipeline import Pipeline\n",
        "from sklearn.preprocessing import StandardScaler\n",
        "\n",
        "# CODE HERE\n",
        "num_pipeline = Pipeline([('std_scaler', StandardScaler())])\n",
        "\n",
        "Music_num_tr_test = num_pipeline.fit_transform(test_set1)\n",
        "Music_num_tr_test"
      ]
    },
    {
      "cell_type": "markdown",
      "metadata": {
        "id": "CCjWedqgDKsW"
      },
      "source": [
        "# check the result"
      ]
    },
    {
      "cell_type": "code",
      "execution_count": null,
      "metadata": {
        "id": "PMxOJLnkToC_"
      },
      "outputs": [],
      "source": [
        "final_predictions = final_model.predict(Music_num_tr_test)\n"
      ]
    },
    {
      "cell_type": "code",
      "execution_count": null,
      "metadata": {
        "id": "TnzIsMF9LWlP",
        "colab": {
          "base_uri": "https://localhost:8080/"
        },
        "outputId": "42752c2a-b624-429b-bb52-69962b0af11b"
      },
      "outputs": [
        {
          "output_type": "stream",
          "name": "stdout",
          "text": [
            "              precision    recall  f1-score   support\n",
            "\n",
            "           0       0.84      0.37      0.51       100\n",
            "           1       1.00      0.01      0.02       220\n",
            "           2       0.49      0.42      0.45       204\n",
            "           3       0.41      0.81      0.55        64\n",
            "           4       1.00      0.02      0.03        62\n",
            "           5       0.66      0.68      0.67       231\n",
            "           6       0.45      0.32      0.37       414\n",
            "           7       0.97      0.85      0.91        92\n",
            "           8       0.69      0.33      0.44       297\n",
            "           9       0.50      0.51      0.50       404\n",
            "          10       0.44      0.77      0.56       792\n",
            "\n",
            "    accuracy                           0.50      2880\n",
            "   macro avg       0.68      0.46      0.46      2880\n",
            "weighted avg       0.58      0.50      0.47      2880\n",
            "\n"
          ]
        }
      ],
      "source": [
        "print(classification_report(y_test,final_predictions))"
      ]
    },
    {
      "cell_type": "code",
      "execution_count": null,
      "metadata": {
        "id": "Q87DpKR-U2hn",
        "colab": {
          "base_uri": "https://localhost:8080/"
        },
        "outputId": "0dadd9dc-82b6-4f1e-cb78-d9b87ff31aef"
      },
      "outputs": [
        {
          "output_type": "execute_result",
          "data": {
            "text/plain": [
              "(3600, 17)"
            ]
          },
          "metadata": {},
          "execution_count": 122
        }
      ],
      "source": [
        "test_set.shape"
      ]
    },
    {
      "cell_type": "code",
      "execution_count": null,
      "metadata": {
        "id": "Rq44ESsdUjQH"
      },
      "outputs": [],
      "source": [
        "pred=pd.DataFrame({\"id\":test_set[\"id\"],\"class\":final_predictions})"
      ]
    },
    {
      "cell_type": "code",
      "execution_count": null,
      "metadata": {
        "id": "CVlt5cu9TwJ-"
      },
      "outputs": [],
      "source": [
        "pred.to_csv(\"submission.csv\",index=False)"
      ]
    }
  ],
  "metadata": {
    "accelerator": "GPU",
    "colab": {
      "collapsed_sections": [
        "wlY0YDW1TRg1",
        "cNqMZ9UrUFpS",
        "ZhOEUYTmUcty",
        "AIczNwb7qfBA",
        "9PeJUPqSDKqQ",
        "bN9JRQ1ypJZR",
        "XiQSoY21cLc0",
        "4yTMi_KMcMii",
        "fK1XwGEqgJzJ",
        "DbilZR1MgNaa",
        "llLeP5b-1jB7",
        "qD3SbylXSO4z"
      ],
      "provenance": []
    },
    "gpuClass": "standard",
    "kernelspec": {
      "display_name": "Python 3 (ipykernel)",
      "language": "python",
      "name": "python3"
    },
    "language_info": {
      "codemirror_mode": {
        "name": "ipython",
        "version": 3
      },
      "file_extension": ".py",
      "mimetype": "text/x-python",
      "name": "python",
      "nbconvert_exporter": "python",
      "pygments_lexer": "ipython3",
      "version": "3.9.12"
    }
  },
  "nbformat": 4,
  "nbformat_minor": 0
}